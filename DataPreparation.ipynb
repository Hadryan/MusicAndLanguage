{
  "nbformat": 4,
  "nbformat_minor": 0,
  "metadata": {
    "colab": {
      "name": "DataPreparation.ipynb",
      "provenance": [],
      "collapsed_sections": [],
      "authorship_tag": "ABX9TyNJ7y+aM9f8af0hOEeqqfbn",
      "include_colab_link": true
    },
    "kernelspec": {
      "name": "ir",
      "display_name": "R"
    }
  },
  "cells": [
    {
      "cell_type": "markdown",
      "metadata": {
        "id": "view-in-github",
        "colab_type": "text"
      },
      "source": [
        "<a href=\"https://colab.research.google.com/github/stelmanj/MusicAndLanguage/blob/master/DataPreparation.ipynb\" target=\"_parent\"><img src=\"https://colab.research.google.com/assets/colab-badge.svg\" alt=\"Open In Colab\"/></a>"
      ]
    },
    {
      "cell_type": "code",
      "metadata": {
        "id": "yWBNz5XQUaXE",
        "colab_type": "code",
        "colab": {}
      },
      "source": [
        "#install.packages(\"quanteda\")"
      ],
      "execution_count": 0,
      "outputs": []
    },
    {
      "cell_type": "code",
      "metadata": {
        "id": "zKd96bWWWScX",
        "colab_type": "code",
        "colab": {}
      },
      "source": [
        "library(dplyr)\n",
        "library(quanteda)\n",
        "library(stringi)"
      ],
      "execution_count": 0,
      "outputs": []
    },
    {
      "cell_type": "code",
      "metadata": {
        "id": "bjJPTMX_UQnr",
        "colab_type": "code",
        "outputId": "3b964061-9bb4-40ec-cbd2-556810a2f194",
        "colab": {
          "base_uri": "https://localhost:8080/",
          "height": 450
        }
      },
      "source": [
        "AFsongDF <- read.csv(\n",
        "  \"https://github.com/stelmanj/MusicAndLanguage/blob/master/AFsongDF.csv?raw=true\",\n",
        "  row.names = 1) \n",
        "head(AFsongDF)"
      ],
      "execution_count": 23,
      "outputs": [
        {
          "output_type": "display_data",
          "data": {
            "text/plain": [
              "  danceability energy key loudness mode speechiness acousticness\n",
              "0 0.228        0.739   2  -27.313  0    0.0555      0.3280      \n",
              "1 0.708        0.608  10   -8.780  0    0.3200      0.0476      \n",
              "2 0.816        0.600   6   -9.506  0    0.2530      0.1950      \n",
              "3 0.525        0.753   1   -7.975  1    0.4990      0.4400      \n",
              "4 0.878        0.792   1   -5.483  1    0.0645      0.1810      \n",
              "5 0.453        0.656   5   -8.205  0    0.4250      0.2470      \n",
              "  instrumentalness liveness valence ⋯\n",
              "0 9.90e-01         0.4070   0.0112  ⋯\n",
              "1 7.15e-06         0.1270   0.2200  ⋯\n",
              "2 1.18e-02         0.1270   0.3890  ⋯\n",
              "3 0.00e+00         0.0753   0.5520  ⋯\n",
              "4 0.00e+00         0.1190   0.5130  ⋯\n",
              "5 0.00e+00         0.0781   0.5660  ⋯\n",
              "  track_href                                              \n",
              "0 https://api.spotify.com/v1/tracks/32AWEAYwQRky8gkAqKBgv1\n",
              "1 https://api.spotify.com/v1/tracks/3Cqj0VmGsjhmHgqXcnH6Zz\n",
              "2 https://api.spotify.com/v1/tracks/26EDvDMoB73VfJtT8pKTVS\n",
              "3 https://api.spotify.com/v1/tracks/0aW657knJXm5pUjG7x6YN1\n",
              "4 https://api.spotify.com/v1/tracks/5KZdZNWX2B0rLY7BEcgryb\n",
              "5 https://api.spotify.com/v1/tracks/5lsGmbedEgu7ZxVuPByY1J\n",
              "  analysis_url                                                     duration_ms\n",
              "0 https://api.spotify.com/v1/audio-analysis/32AWEAYwQRky8gkAqKBgv1  63869     \n",
              "1 https://api.spotify.com/v1/audio-analysis/3Cqj0VmGsjhmHgqXcnH6Zz 228625     \n",
              "2 https://api.spotify.com/v1/audio-analysis/26EDvDMoB73VfJtT8pKTVS 168425     \n",
              "3 https://api.spotify.com/v1/audio-analysis/0aW657knJXm5pUjG7x6YN1 215466     \n",
              "4 https://api.spotify.com/v1/audio-analysis/5KZdZNWX2B0rLY7BEcgryb 161250     \n",
              "5 https://api.spotify.com/v1/audio-analysis/5lsGmbedEgu7ZxVuPByY1J 203625     \n",
              "  time_signature title                                 artist                 \n",
              "0 5              Sharp Nighttime Thunder Storms Sounds Thunderstorm Sound Bank\n",
              "1 4              Pse Ke Ardh Ktu                       Buta                   \n",
              "2 4              100 Ks                                Butch                  \n",
              "3 4              Ground Zero                           Tenk                   \n",
              "4 4              Bizele                                Elinel                 \n",
              "5 4              K.P.T                                 Finem                  \n",
              "  lyrics          lang langs sid                   \n",
              "0 no lyrics found NA   NA    32AWEAYwQRky8gkAqKBgv1\n",
              "1 no lyrics found NA   NA    3Cqj0VmGsjhmHgqXcnH6Zz\n",
              "2 no lyrics found NA   NA    26EDvDMoB73VfJtT8pKTVS\n",
              "3 no lyrics found NA   NA    0aW657knJXm5pUjG7x6YN1\n",
              "4 no lyrics found NA   NA    5KZdZNWX2B0rLY7BEcgryb\n",
              "5 no lyrics found NA   NA    5lsGmbedEgu7ZxVuPByY1J"
            ],
            "text/latex": "A data.frame: 6 × 24\n\\begin{tabular}{r|lllllllllllllllllllll}\n  & danceability & energy & key & loudness & mode & speechiness & acousticness & instrumentalness & liveness & valence & ⋯ & track\\_href & analysis\\_url & duration\\_ms & time\\_signature & title & artist & lyrics & lang & langs & sid\\\\\n  & <dbl> & <dbl> & <dbl> & <dbl> & <dbl> & <dbl> & <dbl> & <dbl> & <dbl> & <dbl> & ⋯ & <fct> & <fct> & <dbl> & <dbl> & <fct> & <fct> & <fct> & <fct> & <fct> & <fct>\\\\\n\\hline\n\t0 & 0.228 & 0.739 &  2 & -27.313 & 0 & 0.0555 & 0.3280 & 9.90e-01 & 0.4070 & 0.0112 & ⋯ & https://api.spotify.com/v1/tracks/32AWEAYwQRky8gkAqKBgv1 & https://api.spotify.com/v1/audio-analysis/32AWEAYwQRky8gkAqKBgv1 &  63869 & 5 & Sharp Nighttime Thunder Storms Sounds & Thunderstorm Sound Bank & no lyrics found & NA & NA & 32AWEAYwQRky8gkAqKBgv1\\\\\n\t1 & 0.708 & 0.608 & 10 &  -8.780 & 0 & 0.3200 & 0.0476 & 7.15e-06 & 0.1270 & 0.2200 & ⋯ & https://api.spotify.com/v1/tracks/3Cqj0VmGsjhmHgqXcnH6Zz & https://api.spotify.com/v1/audio-analysis/3Cqj0VmGsjhmHgqXcnH6Zz & 228625 & 4 & Pse Ke Ardh Ktu                       & Buta                    & no lyrics found & NA & NA & 3Cqj0VmGsjhmHgqXcnH6Zz\\\\\n\t2 & 0.816 & 0.600 &  6 &  -9.506 & 0 & 0.2530 & 0.1950 & 1.18e-02 & 0.1270 & 0.3890 & ⋯ & https://api.spotify.com/v1/tracks/26EDvDMoB73VfJtT8pKTVS & https://api.spotify.com/v1/audio-analysis/26EDvDMoB73VfJtT8pKTVS & 168425 & 4 & 100 Ks                                & Butch                   & no lyrics found & NA & NA & 26EDvDMoB73VfJtT8pKTVS\\\\\n\t3 & 0.525 & 0.753 &  1 &  -7.975 & 1 & 0.4990 & 0.4400 & 0.00e+00 & 0.0753 & 0.5520 & ⋯ & https://api.spotify.com/v1/tracks/0aW657knJXm5pUjG7x6YN1 & https://api.spotify.com/v1/audio-analysis/0aW657knJXm5pUjG7x6YN1 & 215466 & 4 & Ground Zero                           & Tenk                    & no lyrics found & NA & NA & 0aW657knJXm5pUjG7x6YN1\\\\\n\t4 & 0.878 & 0.792 &  1 &  -5.483 & 1 & 0.0645 & 0.1810 & 0.00e+00 & 0.1190 & 0.5130 & ⋯ & https://api.spotify.com/v1/tracks/5KZdZNWX2B0rLY7BEcgryb & https://api.spotify.com/v1/audio-analysis/5KZdZNWX2B0rLY7BEcgryb & 161250 & 4 & Bizele                                & Elinel                  & no lyrics found & NA & NA & 5KZdZNWX2B0rLY7BEcgryb\\\\\n\t5 & 0.453 & 0.656 &  5 &  -8.205 & 0 & 0.4250 & 0.2470 & 0.00e+00 & 0.0781 & 0.5660 & ⋯ & https://api.spotify.com/v1/tracks/5lsGmbedEgu7ZxVuPByY1J & https://api.spotify.com/v1/audio-analysis/5lsGmbedEgu7ZxVuPByY1J & 203625 & 4 & K.P.T                                 & Finem                   & no lyrics found & NA & NA & 5lsGmbedEgu7ZxVuPByY1J\\\\\n\\end{tabular}\n",
            "text/markdown": "\nA data.frame: 6 × 24\n\n| <!--/--> | danceability &lt;dbl&gt; | energy &lt;dbl&gt; | key &lt;dbl&gt; | loudness &lt;dbl&gt; | mode &lt;dbl&gt; | speechiness &lt;dbl&gt; | acousticness &lt;dbl&gt; | instrumentalness &lt;dbl&gt; | liveness &lt;dbl&gt; | valence &lt;dbl&gt; | ⋯ ⋯ | track_href &lt;fct&gt; | analysis_url &lt;fct&gt; | duration_ms &lt;dbl&gt; | time_signature &lt;dbl&gt; | title &lt;fct&gt; | artist &lt;fct&gt; | lyrics &lt;fct&gt; | lang &lt;fct&gt; | langs &lt;fct&gt; | sid &lt;fct&gt; |\n|---|---|---|---|---|---|---|---|---|---|---|---|---|---|---|---|---|---|---|---|---|---|\n| 0 | 0.228 | 0.739 |  2 | -27.313 | 0 | 0.0555 | 0.3280 | 9.90e-01 | 0.4070 | 0.0112 | ⋯ | https://api.spotify.com/v1/tracks/32AWEAYwQRky8gkAqKBgv1 | https://api.spotify.com/v1/audio-analysis/32AWEAYwQRky8gkAqKBgv1 |  63869 | 5 | Sharp Nighttime Thunder Storms Sounds | Thunderstorm Sound Bank | no lyrics found | NA | NA | 32AWEAYwQRky8gkAqKBgv1 |\n| 1 | 0.708 | 0.608 | 10 |  -8.780 | 0 | 0.3200 | 0.0476 | 7.15e-06 | 0.1270 | 0.2200 | ⋯ | https://api.spotify.com/v1/tracks/3Cqj0VmGsjhmHgqXcnH6Zz | https://api.spotify.com/v1/audio-analysis/3Cqj0VmGsjhmHgqXcnH6Zz | 228625 | 4 | Pse Ke Ardh Ktu                       | Buta                    | no lyrics found | NA | NA | 3Cqj0VmGsjhmHgqXcnH6Zz |\n| 2 | 0.816 | 0.600 |  6 |  -9.506 | 0 | 0.2530 | 0.1950 | 1.18e-02 | 0.1270 | 0.3890 | ⋯ | https://api.spotify.com/v1/tracks/26EDvDMoB73VfJtT8pKTVS | https://api.spotify.com/v1/audio-analysis/26EDvDMoB73VfJtT8pKTVS | 168425 | 4 | 100 Ks                                | Butch                   | no lyrics found | NA | NA | 26EDvDMoB73VfJtT8pKTVS |\n| 3 | 0.525 | 0.753 |  1 |  -7.975 | 1 | 0.4990 | 0.4400 | 0.00e+00 | 0.0753 | 0.5520 | ⋯ | https://api.spotify.com/v1/tracks/0aW657knJXm5pUjG7x6YN1 | https://api.spotify.com/v1/audio-analysis/0aW657knJXm5pUjG7x6YN1 | 215466 | 4 | Ground Zero                           | Tenk                    | no lyrics found | NA | NA | 0aW657knJXm5pUjG7x6YN1 |\n| 4 | 0.878 | 0.792 |  1 |  -5.483 | 1 | 0.0645 | 0.1810 | 0.00e+00 | 0.1190 | 0.5130 | ⋯ | https://api.spotify.com/v1/tracks/5KZdZNWX2B0rLY7BEcgryb | https://api.spotify.com/v1/audio-analysis/5KZdZNWX2B0rLY7BEcgryb | 161250 | 4 | Bizele                                | Elinel                  | no lyrics found | NA | NA | 5KZdZNWX2B0rLY7BEcgryb |\n| 5 | 0.453 | 0.656 |  5 |  -8.205 | 0 | 0.4250 | 0.2470 | 0.00e+00 | 0.0781 | 0.5660 | ⋯ | https://api.spotify.com/v1/tracks/5lsGmbedEgu7ZxVuPByY1J | https://api.spotify.com/v1/audio-analysis/5lsGmbedEgu7ZxVuPByY1J | 203625 | 4 | K.P.T                                 | Finem                   | no lyrics found | NA | NA | 5lsGmbedEgu7ZxVuPByY1J |\n\n",
            "text/html": [
              "<table>\n",
              "<caption>A data.frame: 6 × 24</caption>\n",
              "<thead>\n",
              "\t<tr><th></th><th scope=col>danceability</th><th scope=col>energy</th><th scope=col>key</th><th scope=col>loudness</th><th scope=col>mode</th><th scope=col>speechiness</th><th scope=col>acousticness</th><th scope=col>instrumentalness</th><th scope=col>liveness</th><th scope=col>valence</th><th scope=col>⋯</th><th scope=col>track_href</th><th scope=col>analysis_url</th><th scope=col>duration_ms</th><th scope=col>time_signature</th><th scope=col>title</th><th scope=col>artist</th><th scope=col>lyrics</th><th scope=col>lang</th><th scope=col>langs</th><th scope=col>sid</th></tr>\n",
              "\t<tr><th></th><th scope=col>&lt;dbl&gt;</th><th scope=col>&lt;dbl&gt;</th><th scope=col>&lt;dbl&gt;</th><th scope=col>&lt;dbl&gt;</th><th scope=col>&lt;dbl&gt;</th><th scope=col>&lt;dbl&gt;</th><th scope=col>&lt;dbl&gt;</th><th scope=col>&lt;dbl&gt;</th><th scope=col>&lt;dbl&gt;</th><th scope=col>&lt;dbl&gt;</th><th scope=col>⋯</th><th scope=col>&lt;fct&gt;</th><th scope=col>&lt;fct&gt;</th><th scope=col>&lt;dbl&gt;</th><th scope=col>&lt;dbl&gt;</th><th scope=col>&lt;fct&gt;</th><th scope=col>&lt;fct&gt;</th><th scope=col>&lt;fct&gt;</th><th scope=col>&lt;fct&gt;</th><th scope=col>&lt;fct&gt;</th><th scope=col>&lt;fct&gt;</th></tr>\n",
              "</thead>\n",
              "<tbody>\n",
              "\t<tr><th scope=row>0</th><td>0.228</td><td>0.739</td><td> 2</td><td>-27.313</td><td>0</td><td>0.0555</td><td>0.3280</td><td>9.90e-01</td><td>0.4070</td><td>0.0112</td><td>⋯</td><td>https://api.spotify.com/v1/tracks/32AWEAYwQRky8gkAqKBgv1</td><td>https://api.spotify.com/v1/audio-analysis/32AWEAYwQRky8gkAqKBgv1</td><td> 63869</td><td>5</td><td>Sharp Nighttime Thunder Storms Sounds</td><td>Thunderstorm Sound Bank</td><td>no lyrics found</td><td>NA</td><td>NA</td><td>32AWEAYwQRky8gkAqKBgv1</td></tr>\n",
              "\t<tr><th scope=row>1</th><td>0.708</td><td>0.608</td><td>10</td><td> -8.780</td><td>0</td><td>0.3200</td><td>0.0476</td><td>7.15e-06</td><td>0.1270</td><td>0.2200</td><td>⋯</td><td>https://api.spotify.com/v1/tracks/3Cqj0VmGsjhmHgqXcnH6Zz</td><td>https://api.spotify.com/v1/audio-analysis/3Cqj0VmGsjhmHgqXcnH6Zz</td><td>228625</td><td>4</td><td>Pse Ke Ardh Ktu                      </td><td>Buta                   </td><td>no lyrics found</td><td>NA</td><td>NA</td><td>3Cqj0VmGsjhmHgqXcnH6Zz</td></tr>\n",
              "\t<tr><th scope=row>2</th><td>0.816</td><td>0.600</td><td> 6</td><td> -9.506</td><td>0</td><td>0.2530</td><td>0.1950</td><td>1.18e-02</td><td>0.1270</td><td>0.3890</td><td>⋯</td><td>https://api.spotify.com/v1/tracks/26EDvDMoB73VfJtT8pKTVS</td><td>https://api.spotify.com/v1/audio-analysis/26EDvDMoB73VfJtT8pKTVS</td><td>168425</td><td>4</td><td>100 Ks                               </td><td>Butch                  </td><td>no lyrics found</td><td>NA</td><td>NA</td><td>26EDvDMoB73VfJtT8pKTVS</td></tr>\n",
              "\t<tr><th scope=row>3</th><td>0.525</td><td>0.753</td><td> 1</td><td> -7.975</td><td>1</td><td>0.4990</td><td>0.4400</td><td>0.00e+00</td><td>0.0753</td><td>0.5520</td><td>⋯</td><td>https://api.spotify.com/v1/tracks/0aW657knJXm5pUjG7x6YN1</td><td>https://api.spotify.com/v1/audio-analysis/0aW657knJXm5pUjG7x6YN1</td><td>215466</td><td>4</td><td>Ground Zero                          </td><td>Tenk                   </td><td>no lyrics found</td><td>NA</td><td>NA</td><td>0aW657knJXm5pUjG7x6YN1</td></tr>\n",
              "\t<tr><th scope=row>4</th><td>0.878</td><td>0.792</td><td> 1</td><td> -5.483</td><td>1</td><td>0.0645</td><td>0.1810</td><td>0.00e+00</td><td>0.1190</td><td>0.5130</td><td>⋯</td><td>https://api.spotify.com/v1/tracks/5KZdZNWX2B0rLY7BEcgryb</td><td>https://api.spotify.com/v1/audio-analysis/5KZdZNWX2B0rLY7BEcgryb</td><td>161250</td><td>4</td><td>Bizele                               </td><td>Elinel                 </td><td>no lyrics found</td><td>NA</td><td>NA</td><td>5KZdZNWX2B0rLY7BEcgryb</td></tr>\n",
              "\t<tr><th scope=row>5</th><td>0.453</td><td>0.656</td><td> 5</td><td> -8.205</td><td>0</td><td>0.4250</td><td>0.2470</td><td>0.00e+00</td><td>0.0781</td><td>0.5660</td><td>⋯</td><td>https://api.spotify.com/v1/tracks/5lsGmbedEgu7ZxVuPByY1J</td><td>https://api.spotify.com/v1/audio-analysis/5lsGmbedEgu7ZxVuPByY1J</td><td>203625</td><td>4</td><td>K.P.T                                </td><td>Finem                  </td><td>no lyrics found</td><td>NA</td><td>NA</td><td>5lsGmbedEgu7ZxVuPByY1J</td></tr>\n",
              "</tbody>\n",
              "</table>\n"
            ]
          },
          "metadata": {
            "tags": []
          }
        }
      ]
    },
    {
      "cell_type": "markdown",
      "metadata": {
        "id": "KOLKmmQacFN1",
        "colab_type": "text"
      },
      "source": [
        "Constructing this data was a process. I'm not going to go into much detail, but the data collection was a four step process and happened in Python. \n",
        "1. [This page on everynoise.com](http://everynoise.com/thesoundsofcountries.html) has links to over 100 spotify playlists, each one specific to one country. Through a combination of webscraping and requests to the [Spotify Web API](https://developer.spotify.com/documentation/web-api/), information for all songs on all the playlist this page links to was requested. Those songs for which information was returned were made into a dataframe with columns each piece of their Spotify metadata.\n",
        "2. Through many requests to the [Musixmatch API](https://developer.musixmatch.com/), only a small portion of which were fruitful, excerpts of the songs' lyrics were collected and placed into the data frame as well.\n",
        "3. With the help of the [langdetect](https://github.com/Mimino666/langdetect) python library, the languages of a couple thousand of the lyric excerpts were able to be labeled as one of several dozen languages."
      ]
    },
    {
      "cell_type": "markdown",
      "metadata": {
        "id": "PDrZMkHCbgu8",
        "colab_type": "text"
      },
      "source": [
        "Some columns we don't need, like columns 5 and 16 among others. \n",
        "\n",
        "Those rows that for songs either whose lyrics couldn't be found or whose lyrics' language couldn't be detected will have NaNs in some columns. That won't do."
      ]
    },
    {
      "cell_type": "code",
      "metadata": {
        "id": "rh-ORPLSU1am",
        "colab_type": "code",
        "colab": {}
      },
      "source": [
        "dat <- na.exclude(AFsongDF[,c(-5,-16:-12,-23)])\n",
        "dat$sid <- as.character(dat$sid) #The songid column is a character, not a factor, so make sure that is reflected."
      ],
      "execution_count": 0,
      "outputs": []
    },
    {
      "cell_type": "markdown",
      "metadata": {
        "id": "t2hPksEHbJpj",
        "colab_type": "text"
      },
      "source": [
        "Get the encoding types of each lyric excerpt."
      ]
    },
    {
      "cell_type": "code",
      "metadata": {
        "id": "8ZFSW-aya8dP",
        "colab_type": "code",
        "colab": {}
      },
      "source": [
        "stri_lang_enc = vapply(1:nrow(dat), function(x){\n",
        "  stri_enc_detect(\n",
        "    dat$lyrics[x], filter_angle_brackets = F\n",
        "    )[[1]][c('Language','Encoding','Confidence')][1,] %>%\n",
        "    unlist()},\n",
        "    # Language: What language does R think this text is most likely written in (if it has an opinion)\n",
        "    # Encoding: What type of encoding does R think is most likely right for this text\n",
        "    # Confidence: We probably won't use, but how confident is R that this is the correct language diagnosis\n",
        "  FUN.VALUE = c('Language','Encoding','Confidence')) %>% t() %>%\n",
        "  as.data.frame()\n",
        "\n",
        "# check it out\n",
        "head(stri_lang_enc)"
      ],
      "execution_count": 0,
      "outputs": []
    },
    {
      "cell_type": "markdown",
      "metadata": {
        "id": "zr5kuNXlbQxU",
        "colab_type": "text"
      },
      "source": [
        "Make the text doc df for corpus analysis by sifting through all the ones with weird encoding types, and keeping only the ones we can handle. \n",
        "\n",
        "Also, remove sketchy inconsistencies: It's sometimes common for songs in other languages to have parts in English as well. That's just going to make things confusing. So hopefull this will help a little with removing those."
      ]
    },
    {
      "cell_type": "code",
      "metadata": {
        "id": "WHgOAMtnbWxN",
        "colab_type": "code",
        "outputId": "77a3dddd-74d9-4a49-f73d-80c996cd2278",
        "colab": {
          "base_uri": "https://localhost:8080/",
          "height": 233
        }
      },
      "source": [
        "lyrics_df <- dat %>%\n",
        "  # columns need to be renamed as doc_id and text so that later, the corpus function will know what to do with the data we give it\n",
        "  select(doc_id = sid, text = lyrics, lang) %>%\n",
        "  # throw the encoding columns into it )\n",
        "  cbind(stri_lang_enc) %>%\n",
        "  mutate_if(is.factor, as.character) %>%\n",
        "  # get rid of non-ISO encodings\n",
        "  filter(Encoding %in% c(\"ISO-8859-1\",\"ISO-8859-9\",\"ISO-8859-2\")) %>%\n",
        "  # if lang.detect said English but R said something else was more likely, get rid of it\n",
        "  dplyr::filter(ifelse(lang != \"en\", T, ifelse(lang == Language, T, F)))\n",
        "\n",
        "langs <- data.frame(lang = c('en', 'es', 'id', 'sw', 'nl'), stringsAsFactors = F)\n",
        "\n",
        "# only use the languages in the 5 specified\n",
        "lyrics_df <- lyrics_df %>% \n",
        "  inner_join(langs)\n",
        "\n",
        "# clean up\n",
        "rm(langs)\n",
        "\n",
        "head(lyrics_df,2)"
      ],
      "execution_count": 38,
      "outputs": [
        {
          "output_type": "stream",
          "text": [
            "Joining, by = \"lang\"\n",
            "\n"
          ],
          "name": "stderr"
        },
        {
          "output_type": "display_data",
          "data": {
            "text/plain": [
              "  doc_id                \n",
              "1 5YPmo05u2Kd2HEGLFqaPXQ\n",
              "2 5yqiverYlKEA0ly96HPq01\n",
              "  text                                                                                                                                                                                                                                                                                                                                                                                                                                                                                                                                                                                                                                                                                                         \n",
              "1 Had lyom iss3id mbark ki wafitik a yamina\\nya taj lkhwdat khbark lmard libik hlkna\\n\\nw had lyom iss3id mbark ki wafitik a yamina\\nya taj lkhwdat khbark lmard libik hlkna\\n\\nmali tag 3lik nchofik we nssa9ssi f nass khyana\\nmthawal galbi mndark kan lmola y9bl mna\\n\\nmali tag 3lik nchofik we nssa9ssi f nass khyana\\nmthawal galbi mndark kan lmola y9bl mna\\n\\nhahahaa yamina w m3dm zinik al mglo3a\\nhahahaa yamina w m3dm zinik a yamina\\n\\nblhkma chahrin nwdi hta dibt dwab lmlha\\nkol lila w nhar nadi mayhlach nam lmha\\n\\nra hobk ssfa mn jassdi w rabi 3ff w sabt raha\\nnd3i lah ana njwjk ana chr3 w lh9 m3ana\\n...\\n\\n******* This Lyrics is NOT for Commercial use *******\\n(1409618588767)\n",
              "2 Since 1992\\nthere is a club\\nwhich is making history.\\n7 years later, in 1999, it's still kicking:\\nPONT AERI!\\nWhen the stars begin to shine\\n...\\n\\n******* This Lyrics is NOT for Commercial use *******\\n(1409618588767)                                                                                                                                                                                                                                                                                                                                                                                                                                                                                 \n",
              "  lang Language Encoding   Confidence\n",
              "1 sw   hu       ISO-8859-2 0.18      \n",
              "2 en   en       ISO-8859-1 0.87      "
            ],
            "text/latex": "A data.frame: 2 × 6\n\\begin{tabular}{r|llllll}\n  & doc\\_id & text & lang & Language & Encoding & Confidence\\\\\n  & <chr> & <chr> & <chr> & <chr> & <chr> & <chr>\\\\\n\\hline\n\t1 & 5YPmo05u2Kd2HEGLFqaPXQ & Had lyom iss3id mbark ki wafitik a yamina\nya taj lkhwdat khbark lmard libik hlkna\n\nw had lyom iss3id mbark ki wafitik a yamina\nya taj lkhwdat khbark lmard libik hlkna\n\nmali tag 3lik nchofik we nssa9ssi f nass khyana\nmthawal galbi mndark kan lmola y9bl mna\n\nmali tag 3lik nchofik we nssa9ssi f nass khyana\nmthawal galbi mndark kan lmola y9bl mna\n\nhahahaa yamina w m3dm zinik al mglo3a\nhahahaa yamina w m3dm zinik a yamina\n\nblhkma chahrin nwdi hta dibt dwab lmlha\nkol lila w nhar nadi mayhlach nam lmha\n\nra hobk ssfa mn jassdi w rabi 3ff w sabt raha\nnd3i lah ana njwjk ana chr3 w lh9 m3ana\n...\n\n******* This Lyrics is NOT for Commercial use *******\n(1409618588767) & sw & hu & ISO-8859-2 & 0.18\\\\\n\t2 & 5yqiverYlKEA0ly96HPq01 & Since 1992\nthere is a club\nwhich is making history.\n7 years later, in 1999, it's still kicking:\nPONT AERI!\nWhen the stars begin to shine\n...\n\n******* This Lyrics is NOT for Commercial use *******\n(1409618588767)                                                                                                                                                                                                                                                                                                                                                                                                                                                                                  & en & en & ISO-8859-1 & 0.87\\\\\n\\end{tabular}\n",
            "text/markdown": "\nA data.frame: 2 × 6\n\n| <!--/--> | doc_id &lt;chr&gt; | text &lt;chr&gt; | lang &lt;chr&gt; | Language &lt;chr&gt; | Encoding &lt;chr&gt; | Confidence &lt;chr&gt; |\n|---|---|---|---|---|---|---|\n| 1 | 5YPmo05u2Kd2HEGLFqaPXQ | Had lyom iss3id mbark ki wafitik a yamina\nya taj lkhwdat khbark lmard libik hlkna\n\nw had lyom iss3id mbark ki wafitik a yamina\nya taj lkhwdat khbark lmard libik hlkna\n\nmali tag 3lik nchofik we nssa9ssi f nass khyana\nmthawal galbi mndark kan lmola y9bl mna\n\nmali tag 3lik nchofik we nssa9ssi f nass khyana\nmthawal galbi mndark kan lmola y9bl mna\n\nhahahaa yamina w m3dm zinik al mglo3a\nhahahaa yamina w m3dm zinik a yamina\n\nblhkma chahrin nwdi hta dibt dwab lmlha\nkol lila w nhar nadi mayhlach nam lmha\n\nra hobk ssfa mn jassdi w rabi 3ff w sabt raha\nnd3i lah ana njwjk ana chr3 w lh9 m3ana\n...\n\n******* This Lyrics is NOT for Commercial use *******\n(1409618588767) | sw | hu | ISO-8859-2 | 0.18 |\n| 2 | 5yqiverYlKEA0ly96HPq01 | Since 1992\nthere is a club\nwhich is making history.\n7 years later, in 1999, it's still kicking:\nPONT AERI!\nWhen the stars begin to shine\n...\n\n******* This Lyrics is NOT for Commercial use *******\n(1409618588767)                                                                                                                                                                                                                                                                                                                                                                                                                                                                                  | en | en | ISO-8859-1 | 0.87 |\n\n",
            "text/html": [
              "<table>\n",
              "<caption>A data.frame: 2 × 6</caption>\n",
              "<thead>\n",
              "\t<tr><th></th><th scope=col>doc_id</th><th scope=col>text</th><th scope=col>lang</th><th scope=col>Language</th><th scope=col>Encoding</th><th scope=col>Confidence</th></tr>\n",
              "\t<tr><th></th><th scope=col>&lt;chr&gt;</th><th scope=col>&lt;chr&gt;</th><th scope=col>&lt;chr&gt;</th><th scope=col>&lt;chr&gt;</th><th scope=col>&lt;chr&gt;</th><th scope=col>&lt;chr&gt;</th></tr>\n",
              "</thead>\n",
              "<tbody>\n",
              "\t<tr><th scope=row>1</th><td>5YPmo05u2Kd2HEGLFqaPXQ</td><td>Had lyom iss3id mbark ki wafitik a yamina\n",
              "ya taj lkhwdat khbark lmard libik hlkna\n",
              "\n",
              "w had lyom iss3id mbark ki wafitik a yamina\n",
              "ya taj lkhwdat khbark lmard libik hlkna\n",
              "\n",
              "mali tag 3lik nchofik we nssa9ssi f nass khyana\n",
              "mthawal galbi mndark kan lmola y9bl mna\n",
              "\n",
              "mali tag 3lik nchofik we nssa9ssi f nass khyana\n",
              "mthawal galbi mndark kan lmola y9bl mna\n",
              "\n",
              "hahahaa yamina w m3dm zinik al mglo3a\n",
              "hahahaa yamina w m3dm zinik a yamina\n",
              "\n",
              "blhkma chahrin nwdi hta dibt dwab lmlha\n",
              "kol lila w nhar nadi mayhlach nam lmha\n",
              "\n",
              "ra hobk ssfa mn jassdi w rabi 3ff w sabt raha\n",
              "nd3i lah ana njwjk ana chr3 w lh9 m3ana\n",
              "...\n",
              "\n",
              "******* This Lyrics is NOT for Commercial use *******\n",
              "(1409618588767)</td><td>sw</td><td>hu</td><td>ISO-8859-2</td><td>0.18</td></tr>\n",
              "\t<tr><th scope=row>2</th><td>5yqiverYlKEA0ly96HPq01</td><td>Since 1992\n",
              "there is a club\n",
              "which is making history.\n",
              "7 years later, in 1999, it's still kicking:\n",
              "PONT AERI!\n",
              "When the stars begin to shine\n",
              "...\n",
              "\n",
              "******* This Lyrics is NOT for Commercial use *******\n",
              "(1409618588767)                                                                                                                                                                                                                                                                                                                                                                                                                                                                                 </td><td>en</td><td>en</td><td>ISO-8859-1</td><td>0.87</td></tr>\n",
              "</tbody>\n",
              "</table>\n"
            ]
          },
          "metadata": {
            "tags": []
          }
        }
      ]
    },
    {
      "cell_type": "markdown",
      "metadata": {
        "id": "ZEC8L4OUsHyP",
        "colab_type": "text"
      },
      "source": [
        "Take a smaller, stratified random sample. Limit to just five languages: English, Spanish, Indonesian, Dutch, and Swahili. Each strata is of 1 language and has 20 songs."
      ]
    },
    {
      "cell_type": "code",
      "metadata": {
        "id": "K6XAalcor4l9",
        "colab_type": "code",
        "outputId": "1de0e37d-257e-4bf7-fa10-82de25b70239",
        "colab": {
          "base_uri": "https://localhost:8080/",
          "height": 216
        }
      },
      "source": [
        "# take a smaller, evenly dispersed sample\n",
        "set.seed(10)\n",
        "## take an equal random sample from all five languages of interest\n",
        "En_ids <- subset(x=lyrics_df,subset = lang == 'en')$doc_id\n",
        "## n = 20 because there are exactly 22 songs in Dutch, the language of the 5 with the fewest songs\n",
        "En_ids <- sample(En_ids,20)\n",
        "eS_ids <- subset(x=lyrics_df,subset = lang == 'es')$doc_id\n",
        "eS_ids <- sample(eS_ids,20)\n",
        "Id_ids <- subset(x=lyrics_df,subset = lang == 'id')$doc_id\n",
        "Id_ids <- sample(Id_ids,20)\n",
        "Nl_ids <- subset(x=lyrics_df,subset = lang == 'nl')$doc_id\n",
        "Nl_ids <- sample(Nl_ids,20)\n",
        "sW_ids <- subset(x=lyrics_df,subset = lang == 'sw')$doc_id\n",
        "sW_ids <- sample(sW_ids,20)\n",
        "\n",
        "# replace a misclassified song\n",
        "En_ids_all <- subset(x=lyrics_df,subset = lang == 'en')$doc_id\n",
        "En_ids[which(En_ids == \"720ZYTSr4vSqcFYq2CTJKN\")] <-\n",
        "  sample(En_ids_all[-which(En_ids_all %in% En_ids)],1)\n",
        "rm(En_ids_all)\n",
        "# replace another misclassified song\n",
        "Id_ids_all <- subset(x=lyrics_df,subset = lang == 'id')$doc_id\n",
        "Id_ids[which(Id_ids == \"7mrxKs2fqNiKBE8zePEP2l\")] <-\n",
        "  sample(Id_ids_all[-which(Id_ids_all %in% Id_ids)],1)\n",
        "rm(Id_ids_all)\n",
        "\n",
        "# keep only the songs selected, and the columns we need\n",
        "lyrics_df2 <- lyrics_df %>% subset(select = names(lyrics_df),\n",
        "                   subset = doc_id %in% c(\n",
        "                     En_ids, eS_ids, Id_ids, Nl_ids, sW_ids)) %>%\n",
        "  select(doc_id, text, lang) # we don't need any of that encoding stuff anymore\n",
        "\n",
        "head(lyrics_df2,2)\n"
      ],
      "execution_count": 39,
      "outputs": [
        {
          "output_type": "display_data",
          "data": {
            "text/plain": [
              "   doc_id                \n",
              "69 5pz1Q9QFHWsUBZiJ73Jx3j\n",
              "70 6eVj2ARRKQiy2Gb9Za7jnf\n",
              "   text                                                                                                                                                                                                                                                                                                                                                                                                                                                                                                                                                                                                                                                                                                                                                                                                                \n",
              "69 Ze is niet altijd even vrolijk en dat ligt ook wel eens aan mij.\\nEn een beetje aan de weerman, maar die maakt eigenlijk niemand blij.\\nEn al zijn miezerige buien, daar heeft zij geen boodschap aan.\\nZij wil alle dagen zon, en als het moet eens een orkaan.\\nMaar net als hem blijf ik proberen,\\nelke dag een flauwe mop.\\nPlots is daar dan toch die glimlach en dan klaart alles, dan klaart alles hier weer op.\\n\\nWant als ze lacht,\\nbreekt de hele hemel open,\\necht ik waan me in de tropen\\n't is echt machtig als ze lacht.\\nAls ze lacht,\\nbaad ik uren in de zon\\nik wou dat ik dat voor haar kon\\nwat zij voor mij doet\\nals ze lacht.\\n\\n'k Ben ook niet altijd even vrolijk, maar dat ligt echt wel niet aan mij.\\n...\\n\\n******* This Lyrics is NOT for Commercial use *******\\n(1409618588767)\n",
              "70 Een lach, een groet, een blij gezicht\\nEen vogel zwevend naar het licht.\\nOh het lijkt zo gewoon maar het is toch een wonder.\\nEen kind dat lacht en naar je zwaait,\\neen fietser die de hoek omdraait.\\nOh het lijkt zo gewoon maar het is toch een wonder.\\nHet leven gaat zo snel voorbij,\\ndat geld voor jou maar ook voor mij...\\n\\nOh laat de zon in je hart\\nZe schijnt toch voor iedereen\\nGeniet van het leven\\nWant het duurt toch maar even.\\nOh aat de zon in je hart\\nZe schijnt toch voor iedereen\\nGeniet van het leven\\n...\\n\\n******* This Lyrics is NOT for Commercial use *******\\n(1409618588767)                                                                                                                                                                                               \n",
              "   lang\n",
              "69 nl  \n",
              "70 nl  "
            ],
            "text/latex": "A data.frame: 2 × 3\n\\begin{tabular}{r|lll}\n  & doc\\_id & text & lang\\\\\n  & <chr> & <chr> & <chr>\\\\\n\\hline\n\t69 & 5pz1Q9QFHWsUBZiJ73Jx3j & Ze is niet altijd even vrolijk en dat ligt ook wel eens aan mij.\nEn een beetje aan de weerman, maar die maakt eigenlijk niemand blij.\nEn al zijn miezerige buien, daar heeft zij geen boodschap aan.\nZij wil alle dagen zon, en als het moet eens een orkaan.\nMaar net als hem blijf ik proberen,\nelke dag een flauwe mop.\nPlots is daar dan toch die glimlach en dan klaart alles, dan klaart alles hier weer op.\n\nWant als ze lacht,\nbreekt de hele hemel open,\necht ik waan me in de tropen\n't is echt machtig als ze lacht.\nAls ze lacht,\nbaad ik uren in de zon\nik wou dat ik dat voor haar kon\nwat zij voor mij doet\nals ze lacht.\n\n'k Ben ook niet altijd even vrolijk, maar dat ligt echt wel niet aan mij.\n...\n\n******* This Lyrics is NOT for Commercial use *******\n(1409618588767) & nl\\\\\n\t70 & 6eVj2ARRKQiy2Gb9Za7jnf & Een lach, een groet, een blij gezicht\nEen vogel zwevend naar het licht.\nOh het lijkt zo gewoon maar het is toch een wonder.\nEen kind dat lacht en naar je zwaait,\neen fietser die de hoek omdraait.\nOh het lijkt zo gewoon maar het is toch een wonder.\nHet leven gaat zo snel voorbij,\ndat geld voor jou maar ook voor mij...\n\nOh laat de zon in je hart\nZe schijnt toch voor iedereen\nGeniet van het leven\nWant het duurt toch maar even.\nOh aat de zon in je hart\nZe schijnt toch voor iedereen\nGeniet van het leven\n...\n\n******* This Lyrics is NOT for Commercial use *******\n(1409618588767)                                                                                                                                                                                                & nl\\\\\n\\end{tabular}\n",
            "text/markdown": "\nA data.frame: 2 × 3\n\n| <!--/--> | doc_id &lt;chr&gt; | text &lt;chr&gt; | lang &lt;chr&gt; |\n|---|---|---|---|\n| 69 | 5pz1Q9QFHWsUBZiJ73Jx3j | Ze is niet altijd even vrolijk en dat ligt ook wel eens aan mij.\nEn een beetje aan de weerman, maar die maakt eigenlijk niemand blij.\nEn al zijn miezerige buien, daar heeft zij geen boodschap aan.\nZij wil alle dagen zon, en als het moet eens een orkaan.\nMaar net als hem blijf ik proberen,\nelke dag een flauwe mop.\nPlots is daar dan toch die glimlach en dan klaart alles, dan klaart alles hier weer op.\n\nWant als ze lacht,\nbreekt de hele hemel open,\necht ik waan me in de tropen\n't is echt machtig als ze lacht.\nAls ze lacht,\nbaad ik uren in de zon\nik wou dat ik dat voor haar kon\nwat zij voor mij doet\nals ze lacht.\n\n'k Ben ook niet altijd even vrolijk, maar dat ligt echt wel niet aan mij.\n...\n\n******* This Lyrics is NOT for Commercial use *******\n(1409618588767) | nl |\n| 70 | 6eVj2ARRKQiy2Gb9Za7jnf | Een lach, een groet, een blij gezicht\nEen vogel zwevend naar het licht.\nOh het lijkt zo gewoon maar het is toch een wonder.\nEen kind dat lacht en naar je zwaait,\neen fietser die de hoek omdraait.\nOh het lijkt zo gewoon maar het is toch een wonder.\nHet leven gaat zo snel voorbij,\ndat geld voor jou maar ook voor mij...\n\nOh laat de zon in je hart\nZe schijnt toch voor iedereen\nGeniet van het leven\nWant het duurt toch maar even.\nOh aat de zon in je hart\nZe schijnt toch voor iedereen\nGeniet van het leven\n...\n\n******* This Lyrics is NOT for Commercial use *******\n(1409618588767)                                                                                                                                                                                                | nl |\n\n",
            "text/html": [
              "<table>\n",
              "<caption>A data.frame: 2 × 3</caption>\n",
              "<thead>\n",
              "\t<tr><th></th><th scope=col>doc_id</th><th scope=col>text</th><th scope=col>lang</th></tr>\n",
              "\t<tr><th></th><th scope=col>&lt;chr&gt;</th><th scope=col>&lt;chr&gt;</th><th scope=col>&lt;chr&gt;</th></tr>\n",
              "</thead>\n",
              "<tbody>\n",
              "\t<tr><th scope=row>69</th><td>5pz1Q9QFHWsUBZiJ73Jx3j</td><td>Ze is niet altijd even vrolijk en dat ligt ook wel eens aan mij.\n",
              "En een beetje aan de weerman, maar die maakt eigenlijk niemand blij.\n",
              "En al zijn miezerige buien, daar heeft zij geen boodschap aan.\n",
              "Zij wil alle dagen zon, en als het moet eens een orkaan.\n",
              "Maar net als hem blijf ik proberen,\n",
              "elke dag een flauwe mop.\n",
              "Plots is daar dan toch die glimlach en dan klaart alles, dan klaart alles hier weer op.\n",
              "\n",
              "Want als ze lacht,\n",
              "breekt de hele hemel open,\n",
              "echt ik waan me in de tropen\n",
              "'t is echt machtig als ze lacht.\n",
              "Als ze lacht,\n",
              "baad ik uren in de zon\n",
              "ik wou dat ik dat voor haar kon\n",
              "wat zij voor mij doet\n",
              "als ze lacht.\n",
              "\n",
              "'k Ben ook niet altijd even vrolijk, maar dat ligt echt wel niet aan mij.\n",
              "...\n",
              "\n",
              "******* This Lyrics is NOT for Commercial use *******\n",
              "(1409618588767)</td><td>nl</td></tr>\n",
              "\t<tr><th scope=row>70</th><td>6eVj2ARRKQiy2Gb9Za7jnf</td><td>Een lach, een groet, een blij gezicht\n",
              "Een vogel zwevend naar het licht.\n",
              "Oh het lijkt zo gewoon maar het is toch een wonder.\n",
              "Een kind dat lacht en naar je zwaait,\n",
              "een fietser die de hoek omdraait.\n",
              "Oh het lijkt zo gewoon maar het is toch een wonder.\n",
              "Het leven gaat zo snel voorbij,\n",
              "dat geld voor jou maar ook voor mij...\n",
              "\n",
              "Oh laat de zon in je hart\n",
              "Ze schijnt toch voor iedereen\n",
              "Geniet van het leven\n",
              "Want het duurt toch maar even.\n",
              "Oh aat de zon in je hart\n",
              "Ze schijnt toch voor iedereen\n",
              "Geniet van het leven\n",
              "...\n",
              "\n",
              "******* This Lyrics is NOT for Commercial use *******\n",
              "(1409618588767)                                                                                                                                                                                               </td><td>nl</td></tr>\n",
              "</tbody>\n",
              "</table>\n"
            ]
          },
          "metadata": {
            "tags": []
          }
        }
      ]
    },
    {
      "cell_type": "markdown",
      "metadata": {
        "id": "kErxtHDLsmPs",
        "colab_type": "text"
      },
      "source": [
        "Create a corpus object out of the lyrics and calculate some metrics on these excerpts. "
      ]
    },
    {
      "cell_type": "code",
      "metadata": {
        "id": "ZG1I9CKl8nPd",
        "colab_type": "code",
        "colab": {
          "base_uri": "https://localhost:8080/",
          "height": 195
        },
        "outputId": "b7dc7344-77ec-49e3-b608-86f8848d9af2"
      },
      "source": [
        "# create a corpus of the lyrics\n",
        "lyrics_corpus <-  corpus(lyrics_df2)\n",
        "\n",
        "# Let's get some information about our corpus, shall we?\n",
        "\n",
        "lyrics_sum <- summary(lyrics_corpus, tolower = T, n = 100) %>% \n",
        "  select(- Sentences) %>% # we don't care about sentences, song lyrics probably don't follow grammar protocols all that well\n",
        "  mutate(Text = as.character(Text),\n",
        "         TTR = Types/Tokens) %>% # add a column for Type-to-Token ratio\n",
        "  select(-lang, lang) # and move lang to the end\n",
        "\n",
        "head(lyrics_sum)"
      ],
      "execution_count": 34,
      "outputs": [
        {
          "output_type": "display_data",
          "data": {
            "text/plain": [
              "  Text                   Types Tokens TTR       lang\n",
              "1 5YPmo05u2Kd2HEGLFqaPXQ 79    139    0.5683453 sw  \n",
              "2 5yqiverYlKEA0ly96HPq01 39     58    0.6724138 en  \n",
              "3 5UBIHAsEPBH2elLRRWb1SM 35     77    0.4545455 en  \n",
              "4 3XmpHN0jwCV1unk8ygs1Ku 46    101    0.4554455 es  \n",
              "5 5ISajXj2M1yvkrC0KsgbR5 36     65    0.5538462 es  \n",
              "6 4bfuNyCaeMEMCdxy4lJdVd 72    125    0.5760000 en  "
            ],
            "text/latex": "A data.frame: 6 × 5\n\\begin{tabular}{r|lllll}\n  & Text & Types & Tokens & TTR & lang\\\\\n  & <chr> & <int> & <int> & <dbl> & <chr>\\\\\n\\hline\n\t1 & 5YPmo05u2Kd2HEGLFqaPXQ & 79 & 139 & 0.5683453 & sw\\\\\n\t2 & 5yqiverYlKEA0ly96HPq01 & 39 &  58 & 0.6724138 & en\\\\\n\t3 & 5UBIHAsEPBH2elLRRWb1SM & 35 &  77 & 0.4545455 & en\\\\\n\t4 & 3XmpHN0jwCV1unk8ygs1Ku & 46 & 101 & 0.4554455 & es\\\\\n\t5 & 5ISajXj2M1yvkrC0KsgbR5 & 36 &  65 & 0.5538462 & es\\\\\n\t6 & 4bfuNyCaeMEMCdxy4lJdVd & 72 & 125 & 0.5760000 & en\\\\\n\\end{tabular}\n",
            "text/markdown": "\nA data.frame: 6 × 5\n\n| <!--/--> | Text &lt;chr&gt; | Types &lt;int&gt; | Tokens &lt;int&gt; | TTR &lt;dbl&gt; | lang &lt;chr&gt; |\n|---|---|---|---|---|---|\n| 1 | 5YPmo05u2Kd2HEGLFqaPXQ | 79 | 139 | 0.5683453 | sw |\n| 2 | 5yqiverYlKEA0ly96HPq01 | 39 |  58 | 0.6724138 | en |\n| 3 | 5UBIHAsEPBH2elLRRWb1SM | 35 |  77 | 0.4545455 | en |\n| 4 | 3XmpHN0jwCV1unk8ygs1Ku | 46 | 101 | 0.4554455 | es |\n| 5 | 5ISajXj2M1yvkrC0KsgbR5 | 36 |  65 | 0.5538462 | es |\n| 6 | 4bfuNyCaeMEMCdxy4lJdVd | 72 | 125 | 0.5760000 | en |\n\n",
            "text/html": [
              "<table>\n",
              "<caption>A data.frame: 6 × 5</caption>\n",
              "<thead>\n",
              "\t<tr><th></th><th scope=col>Text</th><th scope=col>Types</th><th scope=col>Tokens</th><th scope=col>TTR</th><th scope=col>lang</th></tr>\n",
              "\t<tr><th></th><th scope=col>&lt;chr&gt;</th><th scope=col>&lt;int&gt;</th><th scope=col>&lt;int&gt;</th><th scope=col>&lt;dbl&gt;</th><th scope=col>&lt;chr&gt;</th></tr>\n",
              "</thead>\n",
              "<tbody>\n",
              "\t<tr><th scope=row>1</th><td>5YPmo05u2Kd2HEGLFqaPXQ</td><td>79</td><td>139</td><td>0.5683453</td><td>sw</td></tr>\n",
              "\t<tr><th scope=row>2</th><td>5yqiverYlKEA0ly96HPq01</td><td>39</td><td> 58</td><td>0.6724138</td><td>en</td></tr>\n",
              "\t<tr><th scope=row>3</th><td>5UBIHAsEPBH2elLRRWb1SM</td><td>35</td><td> 77</td><td>0.4545455</td><td>en</td></tr>\n",
              "\t<tr><th scope=row>4</th><td>3XmpHN0jwCV1unk8ygs1Ku</td><td>46</td><td>101</td><td>0.4554455</td><td>es</td></tr>\n",
              "\t<tr><th scope=row>5</th><td>5ISajXj2M1yvkrC0KsgbR5</td><td>36</td><td> 65</td><td>0.5538462</td><td>es</td></tr>\n",
              "\t<tr><th scope=row>6</th><td>4bfuNyCaeMEMCdxy4lJdVd</td><td>72</td><td>125</td><td>0.5760000</td><td>en</td></tr>\n",
              "</tbody>\n",
              "</table>\n"
            ]
          },
          "metadata": {
            "tags": []
          }
        }
      ]
    },
    {
      "cell_type": "markdown",
      "metadata": {
        "id": "5j4gYYW493Ga",
        "colab_type": "text"
      },
      "source": [
        "Let's bind that back together with the original data frame, take only the columns that we need, and make the data frame for Audio_Features_and_Lyric_Spread_Metrics"
      ]
    },
    {
      "cell_type": "code",
      "metadata": {
        "id": "LLSSx9TS8rgs",
        "colab_type": "code",
        "colab": {
          "base_uri": "https://localhost:8080/",
          "height": 175
        },
        "outputId": "b0c5840e-bf5c-4878-a824-8f0ba7551046"
      },
      "source": [
        "# dat has a lot of audio features that we want to use, and lyrics_sum has a metric we want to include\n",
        "esinw_df <- dat %>% \n",
        "  dplyr::select(sid, danceability, energy, key, loudness, speechiness, \n",
        "                acousticness, valence, tempo, lang) %>%   # we only need some features\n",
        "  mutate(lang = as.character(lang)) %>%   # remove the factor levels of lang\n",
        "  mutate(lang = factor(lang)) %>%   # so that they can be reset to have only 5 levels\n",
        "  inner_join(lyrics_sum %>%   # innerjoin with lyrics_sum, \n",
        "              mutate(sid = Text) %>%   # and rename the column \"Text\" to \"sid\"\n",
        "              select(sid, Types, Tokens, TTR),   # and only keep the Text, Tokens, and TTR column \n",
        "            by = \"sid\")\n",
        "\n",
        "# let's see what we got now\n",
        "head(esinw_df,5)"
      ],
      "execution_count": 35,
      "outputs": [
        {
          "output_type": "display_data",
          "data": {
            "text/plain": [
              "  sid                    danceability energy key loudness speechiness\n",
              "1 5YPmo05u2Kd2HEGLFqaPXQ 0.751        0.813  1    -7.764  0.0388     \n",
              "2 5yqiverYlKEA0ly96HPq01 0.665        0.967  0    -7.776  0.0729     \n",
              "3 5UBIHAsEPBH2elLRRWb1SM 0.674        0.394  9   -12.804  0.0409     \n",
              "4 3XmpHN0jwCV1unk8ygs1Ku 0.778        0.813  5    -6.486  0.0304     \n",
              "5 5ISajXj2M1yvkrC0KsgbR5 0.752        0.702  2    -5.024  0.0279     \n",
              "  acousticness valence tempo   lang Types Tokens TTR      \n",
              "1 0.51200      0.872    94.793 sw   79    139    0.5683453\n",
              "2 0.00518      0.389   157.979 en   39     58    0.6724138\n",
              "3 0.48000      0.859   139.184 en   35     77    0.4545455\n",
              "4 0.37100      0.962   140.031 es   46    101    0.4554455\n",
              "5 0.49800      0.853   100.017 es   36     65    0.5538462"
            ],
            "text/latex": "A data.frame: 5 × 13\n\\begin{tabular}{r|lllllllllllll}\n  & sid & danceability & energy & key & loudness & speechiness & acousticness & valence & tempo & lang & Types & Tokens & TTR\\\\\n  & <chr> & <dbl> & <dbl> & <dbl> & <dbl> & <dbl> & <dbl> & <dbl> & <dbl> & <fct> & <int> & <int> & <dbl>\\\\\n\\hline\n\t1 & 5YPmo05u2Kd2HEGLFqaPXQ & 0.751 & 0.813 & 1 &  -7.764 & 0.0388 & 0.51200 & 0.872 &  94.793 & sw & 79 & 139 & 0.5683453\\\\\n\t2 & 5yqiverYlKEA0ly96HPq01 & 0.665 & 0.967 & 0 &  -7.776 & 0.0729 & 0.00518 & 0.389 & 157.979 & en & 39 &  58 & 0.6724138\\\\\n\t3 & 5UBIHAsEPBH2elLRRWb1SM & 0.674 & 0.394 & 9 & -12.804 & 0.0409 & 0.48000 & 0.859 & 139.184 & en & 35 &  77 & 0.4545455\\\\\n\t4 & 3XmpHN0jwCV1unk8ygs1Ku & 0.778 & 0.813 & 5 &  -6.486 & 0.0304 & 0.37100 & 0.962 & 140.031 & es & 46 & 101 & 0.4554455\\\\\n\t5 & 5ISajXj2M1yvkrC0KsgbR5 & 0.752 & 0.702 & 2 &  -5.024 & 0.0279 & 0.49800 & 0.853 & 100.017 & es & 36 &  65 & 0.5538462\\\\\n\\end{tabular}\n",
            "text/markdown": "\nA data.frame: 5 × 13\n\n| <!--/--> | sid &lt;chr&gt; | danceability &lt;dbl&gt; | energy &lt;dbl&gt; | key &lt;dbl&gt; | loudness &lt;dbl&gt; | speechiness &lt;dbl&gt; | acousticness &lt;dbl&gt; | valence &lt;dbl&gt; | tempo &lt;dbl&gt; | lang &lt;fct&gt; | Types &lt;int&gt; | Tokens &lt;int&gt; | TTR &lt;dbl&gt; |\n|---|---|---|---|---|---|---|---|---|---|---|---|---|---|\n| 1 | 5YPmo05u2Kd2HEGLFqaPXQ | 0.751 | 0.813 | 1 |  -7.764 | 0.0388 | 0.51200 | 0.872 |  94.793 | sw | 79 | 139 | 0.5683453 |\n| 2 | 5yqiverYlKEA0ly96HPq01 | 0.665 | 0.967 | 0 |  -7.776 | 0.0729 | 0.00518 | 0.389 | 157.979 | en | 39 |  58 | 0.6724138 |\n| 3 | 5UBIHAsEPBH2elLRRWb1SM | 0.674 | 0.394 | 9 | -12.804 | 0.0409 | 0.48000 | 0.859 | 139.184 | en | 35 |  77 | 0.4545455 |\n| 4 | 3XmpHN0jwCV1unk8ygs1Ku | 0.778 | 0.813 | 5 |  -6.486 | 0.0304 | 0.37100 | 0.962 | 140.031 | es | 46 | 101 | 0.4554455 |\n| 5 | 5ISajXj2M1yvkrC0KsgbR5 | 0.752 | 0.702 | 2 |  -5.024 | 0.0279 | 0.49800 | 0.853 | 100.017 | es | 36 |  65 | 0.5538462 |\n\n",
            "text/html": [
              "<table>\n",
              "<caption>A data.frame: 5 × 13</caption>\n",
              "<thead>\n",
              "\t<tr><th></th><th scope=col>sid</th><th scope=col>danceability</th><th scope=col>energy</th><th scope=col>key</th><th scope=col>loudness</th><th scope=col>speechiness</th><th scope=col>acousticness</th><th scope=col>valence</th><th scope=col>tempo</th><th scope=col>lang</th><th scope=col>Types</th><th scope=col>Tokens</th><th scope=col>TTR</th></tr>\n",
              "\t<tr><th></th><th scope=col>&lt;chr&gt;</th><th scope=col>&lt;dbl&gt;</th><th scope=col>&lt;dbl&gt;</th><th scope=col>&lt;dbl&gt;</th><th scope=col>&lt;dbl&gt;</th><th scope=col>&lt;dbl&gt;</th><th scope=col>&lt;dbl&gt;</th><th scope=col>&lt;dbl&gt;</th><th scope=col>&lt;dbl&gt;</th><th scope=col>&lt;fct&gt;</th><th scope=col>&lt;int&gt;</th><th scope=col>&lt;int&gt;</th><th scope=col>&lt;dbl&gt;</th></tr>\n",
              "</thead>\n",
              "<tbody>\n",
              "\t<tr><th scope=row>1</th><td>5YPmo05u2Kd2HEGLFqaPXQ</td><td>0.751</td><td>0.813</td><td>1</td><td> -7.764</td><td>0.0388</td><td>0.51200</td><td>0.872</td><td> 94.793</td><td>sw</td><td>79</td><td>139</td><td>0.5683453</td></tr>\n",
              "\t<tr><th scope=row>2</th><td>5yqiverYlKEA0ly96HPq01</td><td>0.665</td><td>0.967</td><td>0</td><td> -7.776</td><td>0.0729</td><td>0.00518</td><td>0.389</td><td>157.979</td><td>en</td><td>39</td><td> 58</td><td>0.6724138</td></tr>\n",
              "\t<tr><th scope=row>3</th><td>5UBIHAsEPBH2elLRRWb1SM</td><td>0.674</td><td>0.394</td><td>9</td><td>-12.804</td><td>0.0409</td><td>0.48000</td><td>0.859</td><td>139.184</td><td>en</td><td>35</td><td> 77</td><td>0.4545455</td></tr>\n",
              "\t<tr><th scope=row>4</th><td>3XmpHN0jwCV1unk8ygs1Ku</td><td>0.778</td><td>0.813</td><td>5</td><td> -6.486</td><td>0.0304</td><td>0.37100</td><td>0.962</td><td>140.031</td><td>es</td><td>46</td><td>101</td><td>0.4554455</td></tr>\n",
              "\t<tr><th scope=row>5</th><td>5ISajXj2M1yvkrC0KsgbR5</td><td>0.752</td><td>0.702</td><td>2</td><td> -5.024</td><td>0.0279</td><td>0.49800</td><td>0.853</td><td>100.017</td><td>es</td><td>36</td><td> 65</td><td>0.5538462</td></tr>\n",
              "</tbody>\n",
              "</table>\n"
            ]
          },
          "metadata": {
            "tags": []
          }
        }
      ]
    },
    {
      "cell_type": "code",
      "metadata": {
        "id": "ckXSnXZfMcxG",
        "colab_type": "code",
        "colab": {}
      },
      "source": [
        "# Let's save this to an .RData object so we can use it in Audio_Features_and_Lyric_Spread_Metrics\n",
        "save(esinw_df, file = \"AFaLSM.RData\")"
      ],
      "execution_count": 0,
      "outputs": []
    },
    {
      "cell_type": "markdown",
      "metadata": {
        "id": "xfy0k49xOMKv",
        "colab_type": "text"
      },
      "source": [
        "For A_Brief_Analysis_of_Lyric_Text_Metrics_in_5_Languages, we're still not quite done. First, we need to do some agreggating."
      ]
    },
    {
      "cell_type": "code",
      "metadata": {
        "id": "zo1TmdWlO1SM",
        "colab_type": "code",
        "colab": {
          "base_uri": "https://localhost:8080/",
          "height": 175
        },
        "outputId": "012c86b8-17f0-4b03-fecf-dc5d72fde124"
      },
      "source": [
        "# get all the averages and totals we might want, grouping by language\n",
        "lyrics_sum_avgd <- lyrics_sum %>% group_by(lang) %>% \n",
        "  summarise(\"Avg Tokens per Lyric Excerpt\" = round(mean(Tokens)),\n",
        "            \"Avg Types per Lyric Excerpt\" = round(mean(Types),2), \n",
        "            \"Avg Type/Token Ratio (TTR)\" = round(mean(TTR),3)) %>%  ungroup() %>%\n",
        "  select(Language = lang, `Avg Tokens per Lyric Excerpt`, `Avg Types per Lyric Excerpt`, `Avg Type/Token Ratio (TTR)`) %>%\n",
        "  as.data.frame()\n",
        "\n",
        "# Tada!\n",
        "lyrics_sum_avgd"
      ],
      "execution_count": 46,
      "outputs": [
        {
          "output_type": "display_data",
          "data": {
            "text/plain": [
              "  Language Avg Tokens per Lyric Excerpt Avg Types per Lyric Excerpt\n",
              "1 en       136                          72.20                      \n",
              "2 es        83                          41.00                      \n",
              "3 id        56                          35.00                      \n",
              "4 nl       124                          68.25                      \n",
              "5 sw       139                          79.00                      \n",
              "  Avg Type/Token Ratio (TTR)\n",
              "1 0.550                     \n",
              "2 0.505                     \n",
              "3 0.625                     \n",
              "4 0.560                     \n",
              "5 0.568                     "
            ],
            "text/latex": "A data.frame: 5 × 4\n\\begin{tabular}{llll}\n Language & Avg Tokens per Lyric Excerpt & Avg Types per Lyric Excerpt & Avg Type/Token Ratio (TTR)\\\\\n <chr> & <dbl> & <dbl> & <dbl>\\\\\n\\hline\n\t en & 136 & 72.20 & 0.550\\\\\n\t es &  83 & 41.00 & 0.505\\\\\n\t id &  56 & 35.00 & 0.625\\\\\n\t nl & 124 & 68.25 & 0.560\\\\\n\t sw & 139 & 79.00 & 0.568\\\\\n\\end{tabular}\n",
            "text/markdown": "\nA data.frame: 5 × 4\n\n| Language &lt;chr&gt; | Avg Tokens per Lyric Excerpt &lt;dbl&gt; | Avg Types per Lyric Excerpt &lt;dbl&gt; | Avg Type/Token Ratio (TTR) &lt;dbl&gt; |\n|---|---|---|---|\n| en | 136 | 72.20 | 0.550 |\n| es |  83 | 41.00 | 0.505 |\n| id |  56 | 35.00 | 0.625 |\n| nl | 124 | 68.25 | 0.560 |\n| sw | 139 | 79.00 | 0.568 |\n\n",
            "text/html": [
              "<table>\n",
              "<caption>A data.frame: 5 × 4</caption>\n",
              "<thead>\n",
              "\t<tr><th scope=col>Language</th><th scope=col>Avg Tokens per Lyric Excerpt</th><th scope=col>Avg Types per Lyric Excerpt</th><th scope=col>Avg Type/Token Ratio (TTR)</th></tr>\n",
              "\t<tr><th scope=col>&lt;chr&gt;</th><th scope=col>&lt;dbl&gt;</th><th scope=col>&lt;dbl&gt;</th><th scope=col>&lt;dbl&gt;</th></tr>\n",
              "</thead>\n",
              "<tbody>\n",
              "\t<tr><td>en</td><td>136</td><td>72.20</td><td>0.550</td></tr>\n",
              "\t<tr><td>es</td><td> 83</td><td>41.00</td><td>0.505</td></tr>\n",
              "\t<tr><td>id</td><td> 56</td><td>35.00</td><td>0.625</td></tr>\n",
              "\t<tr><td>nl</td><td>124</td><td>68.25</td><td>0.560</td></tr>\n",
              "\t<tr><td>sw</td><td>139</td><td>79.00</td><td>0.568</td></tr>\n",
              "</tbody>\n",
              "</table>\n"
            ]
          },
          "metadata": {
            "tags": []
          }
        }
      ]
    },
    {
      "cell_type": "markdown",
      "metadata": {
        "id": "vP4_44teQrAT",
        "colab_type": "text"
      },
      "source": [
        "Once more, but this time, rather than aggregating and averageing, we'll start by concatenating all excerpts of the same language together, and making a corpus out of that. Then will make a summary table for that hypothetical corpus so that later, we can compare it to the averaged one."
      ]
    },
    {
      "cell_type": "code",
      "metadata": {
        "id": "eIoGZolJNpri",
        "colab_type": "code",
        "colab": {
          "base_uri": "https://localhost:8080/",
          "height": 175
        },
        "outputId": "687dd0cb-2f23-45b4-eb88-49c2a8e7e40b"
      },
      "source": [
        "# concatenate songs of the same language together\n",
        "lyrics_df_cat <- lyrics_df2 %>% group_by(lang) %>%\n",
        "  summarise(\"text\" = paste(text, collapse = \" \")) %>%\n",
        "  select(doc_id = lang, text)\n",
        "\n",
        "# And create a new corpus object based on this\n",
        "lyrics_corpus_cat <- corpus(lyrics_df_cat)\n",
        "\n",
        "# fetch a summary of the corpus composition\n",
        "lyrics_sum_cat <- summary(lyrics_corpus_cat, tolower = T) %>% \n",
        "  select(- Sentences) %>%\n",
        "  mutate(Text = as.character(Text),\n",
        "         TTR = round(Types/Tokens,3)) %>%\n",
        "  rename(Language = Text)\n",
        "\n",
        "lyrics_sum_cat"
      ],
      "execution_count": 43,
      "outputs": [
        {
          "output_type": "display_data",
          "data": {
            "text/plain": [
              "  Language Types Tokens TTR  \n",
              "1 en       588   2543   0.231\n",
              "2 es       564   2167   0.260\n",
              "3 id       506   1528   0.331\n",
              "4 nl       650   2569   0.253\n",
              "5 sw       919   2229   0.412"
            ],
            "text/latex": "A data.frame: 5 × 4\n\\begin{tabular}{llll}\n Language & Types & Tokens & TTR\\\\\n <chr> & <int> & <int> & <dbl>\\\\\n\\hline\n\t en & 588 & 2543 & 0.231\\\\\n\t es & 564 & 2167 & 0.260\\\\\n\t id & 506 & 1528 & 0.331\\\\\n\t nl & 650 & 2569 & 0.253\\\\\n\t sw & 919 & 2229 & 0.412\\\\\n\\end{tabular}\n",
            "text/markdown": "\nA data.frame: 5 × 4\n\n| Language &lt;chr&gt; | Types &lt;int&gt; | Tokens &lt;int&gt; | TTR &lt;dbl&gt; |\n|---|---|---|---|\n| en | 588 | 2543 | 0.231 |\n| es | 564 | 2167 | 0.260 |\n| id | 506 | 1528 | 0.331 |\n| nl | 650 | 2569 | 0.253 |\n| sw | 919 | 2229 | 0.412 |\n\n",
            "text/html": [
              "<table>\n",
              "<caption>A data.frame: 5 × 4</caption>\n",
              "<thead>\n",
              "\t<tr><th scope=col>Language</th><th scope=col>Types</th><th scope=col>Tokens</th><th scope=col>TTR</th></tr>\n",
              "\t<tr><th scope=col>&lt;chr&gt;</th><th scope=col>&lt;int&gt;</th><th scope=col>&lt;int&gt;</th><th scope=col>&lt;dbl&gt;</th></tr>\n",
              "</thead>\n",
              "<tbody>\n",
              "\t<tr><td>en</td><td>588</td><td>2543</td><td>0.231</td></tr>\n",
              "\t<tr><td>es</td><td>564</td><td>2167</td><td>0.260</td></tr>\n",
              "\t<tr><td>id</td><td>506</td><td>1528</td><td>0.331</td></tr>\n",
              "\t<tr><td>nl</td><td>650</td><td>2569</td><td>0.253</td></tr>\n",
              "\t<tr><td>sw</td><td>919</td><td>2229</td><td>0.412</td></tr>\n",
              "</tbody>\n",
              "</table>\n"
            ]
          },
          "metadata": {
            "tags": []
          }
        }
      ]
    },
    {
      "cell_type": "code",
      "metadata": {
        "id": "7avIieIcTYEf",
        "colab_type": "code",
        "colab": {}
      },
      "source": [
        "# Let's save these guys so we can refer back to them later\n",
        "save(lyrics_sum_avgd, lyrics_sum_cat, file = \"ABALTM5L.RData\")"
      ],
      "execution_count": 0,
      "outputs": []
    }
  ]
}