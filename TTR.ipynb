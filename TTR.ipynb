{
  "nbformat": 4,
  "nbformat_minor": 0,
  "metadata": {
    "colab": {
      "name": "TTR.ipynb",
      "provenance": [],
      "collapsed_sections": [],
      "authorship_tag": "ABX9TyNpqcVWJ8Uy7986HM88PNgB",
      "include_colab_link": true
    },
    "kernelspec": {
      "name": "ir",
      "display_name": "R"
    }
  },
  "cells": [
    {
      "cell_type": "markdown",
      "metadata": {
        "id": "view-in-github",
        "colab_type": "text"
      },
      "source": [
        "<a href=\"https://colab.research.google.com/github/stelmanj/MusicAndLanguage/blob/master/TTR.ipynb\" target=\"_parent\"><img src=\"https://colab.research.google.com/assets/colab-badge.svg\" alt=\"Open In Colab\"/></a>"
      ]
    },
    {
      "cell_type": "code",
      "metadata": {
        "id": "yWBNz5XQUaXE",
        "colab_type": "code",
        "colab": {}
      },
      "source": [
        "#install.packages(\"quanteda\")"
      ],
      "execution_count": 0,
      "outputs": []
    },
    {
      "cell_type": "code",
      "metadata": {
        "id": "zKd96bWWWScX",
        "colab_type": "code",
        "colab": {}
      },
      "source": [
        "library(dplyr)\n",
        "library(quanteda)\n",
        "library(stringi)"
      ],
      "execution_count": 0,
      "outputs": []
    },
    {
      "cell_type": "code",
      "metadata": {
        "id": "bjJPTMX_UQnr",
        "colab_type": "code",
        "colab": {
          "base_uri": "https://localhost:8080/",
          "height": 786
        },
        "outputId": "f3a7b33d-c9a5-498e-be65-d6154aeff25b"
      },
      "source": [
        "AFsongDF <- read.csv(\n",
        "  \"https://github.com/stelmanj/MusicAndLanguage/blob/master/AFsongDF.csv?raw=true\",\n",
        "  row.names = 1) \n",
        "head(AFsongDF)"
      ],
      "execution_count": 8,
      "outputs": [
        {
          "output_type": "stream",
          "text": [
            "Package version: 2.0.1\n",
            "\n",
            "Parallel computing: 2 of 2 threads used.\n",
            "\n",
            "See https://quanteda.io for tutorials and examples.\n",
            "\n",
            "\n",
            "Attaching package: ‘quanteda’\n",
            "\n",
            "\n",
            "The following object is masked from ‘jupyter:irkernel’:\n",
            "\n",
            "    View\n",
            "\n",
            "\n",
            "The following object is masked from ‘package:utils’:\n",
            "\n",
            "    View\n",
            "\n",
            "\n"
          ],
          "name": "stderr"
        },
        {
          "output_type": "display_data",
          "data": {
            "text/plain": [
              "  danceability energy key loudness mode speechiness acousticness\n",
              "0 0.228        0.739   2  -27.313  0    0.0555      0.3280      \n",
              "1 0.708        0.608  10   -8.780  0    0.3200      0.0476      \n",
              "2 0.816        0.600   6   -9.506  0    0.2530      0.1950      \n",
              "3 0.525        0.753   1   -7.975  1    0.4990      0.4400      \n",
              "4 0.878        0.792   1   -5.483  1    0.0645      0.1810      \n",
              "5 0.453        0.656   5   -8.205  0    0.4250      0.2470      \n",
              "  instrumentalness liveness valence ⋯\n",
              "0 9.90e-01         0.4070   0.0112  ⋯\n",
              "1 7.15e-06         0.1270   0.2200  ⋯\n",
              "2 1.18e-02         0.1270   0.3890  ⋯\n",
              "3 0.00e+00         0.0753   0.5520  ⋯\n",
              "4 0.00e+00         0.1190   0.5130  ⋯\n",
              "5 0.00e+00         0.0781   0.5660  ⋯\n",
              "  track_href                                              \n",
              "0 https://api.spotify.com/v1/tracks/32AWEAYwQRky8gkAqKBgv1\n",
              "1 https://api.spotify.com/v1/tracks/3Cqj0VmGsjhmHgqXcnH6Zz\n",
              "2 https://api.spotify.com/v1/tracks/26EDvDMoB73VfJtT8pKTVS\n",
              "3 https://api.spotify.com/v1/tracks/0aW657knJXm5pUjG7x6YN1\n",
              "4 https://api.spotify.com/v1/tracks/5KZdZNWX2B0rLY7BEcgryb\n",
              "5 https://api.spotify.com/v1/tracks/5lsGmbedEgu7ZxVuPByY1J\n",
              "  analysis_url                                                     duration_ms\n",
              "0 https://api.spotify.com/v1/audio-analysis/32AWEAYwQRky8gkAqKBgv1  63869     \n",
              "1 https://api.spotify.com/v1/audio-analysis/3Cqj0VmGsjhmHgqXcnH6Zz 228625     \n",
              "2 https://api.spotify.com/v1/audio-analysis/26EDvDMoB73VfJtT8pKTVS 168425     \n",
              "3 https://api.spotify.com/v1/audio-analysis/0aW657knJXm5pUjG7x6YN1 215466     \n",
              "4 https://api.spotify.com/v1/audio-analysis/5KZdZNWX2B0rLY7BEcgryb 161250     \n",
              "5 https://api.spotify.com/v1/audio-analysis/5lsGmbedEgu7ZxVuPByY1J 203625     \n",
              "  time_signature title                                 artist                 \n",
              "0 5              Sharp Nighttime Thunder Storms Sounds Thunderstorm Sound Bank\n",
              "1 4              Pse Ke Ardh Ktu                       Buta                   \n",
              "2 4              100 Ks                                Butch                  \n",
              "3 4              Ground Zero                           Tenk                   \n",
              "4 4              Bizele                                Elinel                 \n",
              "5 4              K.P.T                                 Finem                  \n",
              "  lyrics          lang langs sid                   \n",
              "0 no lyrics found NA   NA    32AWEAYwQRky8gkAqKBgv1\n",
              "1 no lyrics found NA   NA    3Cqj0VmGsjhmHgqXcnH6Zz\n",
              "2 no lyrics found NA   NA    26EDvDMoB73VfJtT8pKTVS\n",
              "3 no lyrics found NA   NA    0aW657knJXm5pUjG7x6YN1\n",
              "4 no lyrics found NA   NA    5KZdZNWX2B0rLY7BEcgryb\n",
              "5 no lyrics found NA   NA    5lsGmbedEgu7ZxVuPByY1J"
            ],
            "text/latex": "A data.frame: 6 × 24\n\\begin{tabular}{r|lllllllllllllllllllll}\n  & danceability & energy & key & loudness & mode & speechiness & acousticness & instrumentalness & liveness & valence & ⋯ & track\\_href & analysis\\_url & duration\\_ms & time\\_signature & title & artist & lyrics & lang & langs & sid\\\\\n  & <dbl> & <dbl> & <dbl> & <dbl> & <dbl> & <dbl> & <dbl> & <dbl> & <dbl> & <dbl> & ⋯ & <fct> & <fct> & <dbl> & <dbl> & <fct> & <fct> & <fct> & <fct> & <fct> & <fct>\\\\\n\\hline\n\t0 & 0.228 & 0.739 &  2 & -27.313 & 0 & 0.0555 & 0.3280 & 9.90e-01 & 0.4070 & 0.0112 & ⋯ & https://api.spotify.com/v1/tracks/32AWEAYwQRky8gkAqKBgv1 & https://api.spotify.com/v1/audio-analysis/32AWEAYwQRky8gkAqKBgv1 &  63869 & 5 & Sharp Nighttime Thunder Storms Sounds & Thunderstorm Sound Bank & no lyrics found & NA & NA & 32AWEAYwQRky8gkAqKBgv1\\\\\n\t1 & 0.708 & 0.608 & 10 &  -8.780 & 0 & 0.3200 & 0.0476 & 7.15e-06 & 0.1270 & 0.2200 & ⋯ & https://api.spotify.com/v1/tracks/3Cqj0VmGsjhmHgqXcnH6Zz & https://api.spotify.com/v1/audio-analysis/3Cqj0VmGsjhmHgqXcnH6Zz & 228625 & 4 & Pse Ke Ardh Ktu                       & Buta                    & no lyrics found & NA & NA & 3Cqj0VmGsjhmHgqXcnH6Zz\\\\\n\t2 & 0.816 & 0.600 &  6 &  -9.506 & 0 & 0.2530 & 0.1950 & 1.18e-02 & 0.1270 & 0.3890 & ⋯ & https://api.spotify.com/v1/tracks/26EDvDMoB73VfJtT8pKTVS & https://api.spotify.com/v1/audio-analysis/26EDvDMoB73VfJtT8pKTVS & 168425 & 4 & 100 Ks                                & Butch                   & no lyrics found & NA & NA & 26EDvDMoB73VfJtT8pKTVS\\\\\n\t3 & 0.525 & 0.753 &  1 &  -7.975 & 1 & 0.4990 & 0.4400 & 0.00e+00 & 0.0753 & 0.5520 & ⋯ & https://api.spotify.com/v1/tracks/0aW657knJXm5pUjG7x6YN1 & https://api.spotify.com/v1/audio-analysis/0aW657knJXm5pUjG7x6YN1 & 215466 & 4 & Ground Zero                           & Tenk                    & no lyrics found & NA & NA & 0aW657knJXm5pUjG7x6YN1\\\\\n\t4 & 0.878 & 0.792 &  1 &  -5.483 & 1 & 0.0645 & 0.1810 & 0.00e+00 & 0.1190 & 0.5130 & ⋯ & https://api.spotify.com/v1/tracks/5KZdZNWX2B0rLY7BEcgryb & https://api.spotify.com/v1/audio-analysis/5KZdZNWX2B0rLY7BEcgryb & 161250 & 4 & Bizele                                & Elinel                  & no lyrics found & NA & NA & 5KZdZNWX2B0rLY7BEcgryb\\\\\n\t5 & 0.453 & 0.656 &  5 &  -8.205 & 0 & 0.4250 & 0.2470 & 0.00e+00 & 0.0781 & 0.5660 & ⋯ & https://api.spotify.com/v1/tracks/5lsGmbedEgu7ZxVuPByY1J & https://api.spotify.com/v1/audio-analysis/5lsGmbedEgu7ZxVuPByY1J & 203625 & 4 & K.P.T                                 & Finem                   & no lyrics found & NA & NA & 5lsGmbedEgu7ZxVuPByY1J\\\\\n\\end{tabular}\n",
            "text/markdown": "\nA data.frame: 6 × 24\n\n| <!--/--> | danceability &lt;dbl&gt; | energy &lt;dbl&gt; | key &lt;dbl&gt; | loudness &lt;dbl&gt; | mode &lt;dbl&gt; | speechiness &lt;dbl&gt; | acousticness &lt;dbl&gt; | instrumentalness &lt;dbl&gt; | liveness &lt;dbl&gt; | valence &lt;dbl&gt; | ⋯ ⋯ | track_href &lt;fct&gt; | analysis_url &lt;fct&gt; | duration_ms &lt;dbl&gt; | time_signature &lt;dbl&gt; | title &lt;fct&gt; | artist &lt;fct&gt; | lyrics &lt;fct&gt; | lang &lt;fct&gt; | langs &lt;fct&gt; | sid &lt;fct&gt; |\n|---|---|---|---|---|---|---|---|---|---|---|---|---|---|---|---|---|---|---|---|---|---|\n| 0 | 0.228 | 0.739 |  2 | -27.313 | 0 | 0.0555 | 0.3280 | 9.90e-01 | 0.4070 | 0.0112 | ⋯ | https://api.spotify.com/v1/tracks/32AWEAYwQRky8gkAqKBgv1 | https://api.spotify.com/v1/audio-analysis/32AWEAYwQRky8gkAqKBgv1 |  63869 | 5 | Sharp Nighttime Thunder Storms Sounds | Thunderstorm Sound Bank | no lyrics found | NA | NA | 32AWEAYwQRky8gkAqKBgv1 |\n| 1 | 0.708 | 0.608 | 10 |  -8.780 | 0 | 0.3200 | 0.0476 | 7.15e-06 | 0.1270 | 0.2200 | ⋯ | https://api.spotify.com/v1/tracks/3Cqj0VmGsjhmHgqXcnH6Zz | https://api.spotify.com/v1/audio-analysis/3Cqj0VmGsjhmHgqXcnH6Zz | 228625 | 4 | Pse Ke Ardh Ktu                       | Buta                    | no lyrics found | NA | NA | 3Cqj0VmGsjhmHgqXcnH6Zz |\n| 2 | 0.816 | 0.600 |  6 |  -9.506 | 0 | 0.2530 | 0.1950 | 1.18e-02 | 0.1270 | 0.3890 | ⋯ | https://api.spotify.com/v1/tracks/26EDvDMoB73VfJtT8pKTVS | https://api.spotify.com/v1/audio-analysis/26EDvDMoB73VfJtT8pKTVS | 168425 | 4 | 100 Ks                                | Butch                   | no lyrics found | NA | NA | 26EDvDMoB73VfJtT8pKTVS |\n| 3 | 0.525 | 0.753 |  1 |  -7.975 | 1 | 0.4990 | 0.4400 | 0.00e+00 | 0.0753 | 0.5520 | ⋯ | https://api.spotify.com/v1/tracks/0aW657knJXm5pUjG7x6YN1 | https://api.spotify.com/v1/audio-analysis/0aW657knJXm5pUjG7x6YN1 | 215466 | 4 | Ground Zero                           | Tenk                    | no lyrics found | NA | NA | 0aW657knJXm5pUjG7x6YN1 |\n| 4 | 0.878 | 0.792 |  1 |  -5.483 | 1 | 0.0645 | 0.1810 | 0.00e+00 | 0.1190 | 0.5130 | ⋯ | https://api.spotify.com/v1/tracks/5KZdZNWX2B0rLY7BEcgryb | https://api.spotify.com/v1/audio-analysis/5KZdZNWX2B0rLY7BEcgryb | 161250 | 4 | Bizele                                | Elinel                  | no lyrics found | NA | NA | 5KZdZNWX2B0rLY7BEcgryb |\n| 5 | 0.453 | 0.656 |  5 |  -8.205 | 0 | 0.4250 | 0.2470 | 0.00e+00 | 0.0781 | 0.5660 | ⋯ | https://api.spotify.com/v1/tracks/5lsGmbedEgu7ZxVuPByY1J | https://api.spotify.com/v1/audio-analysis/5lsGmbedEgu7ZxVuPByY1J | 203625 | 4 | K.P.T                                 | Finem                   | no lyrics found | NA | NA | 5lsGmbedEgu7ZxVuPByY1J |\n\n",
            "text/html": [
              "<table>\n",
              "<caption>A data.frame: 6 × 24</caption>\n",
              "<thead>\n",
              "\t<tr><th></th><th scope=col>danceability</th><th scope=col>energy</th><th scope=col>key</th><th scope=col>loudness</th><th scope=col>mode</th><th scope=col>speechiness</th><th scope=col>acousticness</th><th scope=col>instrumentalness</th><th scope=col>liveness</th><th scope=col>valence</th><th scope=col>⋯</th><th scope=col>track_href</th><th scope=col>analysis_url</th><th scope=col>duration_ms</th><th scope=col>time_signature</th><th scope=col>title</th><th scope=col>artist</th><th scope=col>lyrics</th><th scope=col>lang</th><th scope=col>langs</th><th scope=col>sid</th></tr>\n",
              "\t<tr><th></th><th scope=col>&lt;dbl&gt;</th><th scope=col>&lt;dbl&gt;</th><th scope=col>&lt;dbl&gt;</th><th scope=col>&lt;dbl&gt;</th><th scope=col>&lt;dbl&gt;</th><th scope=col>&lt;dbl&gt;</th><th scope=col>&lt;dbl&gt;</th><th scope=col>&lt;dbl&gt;</th><th scope=col>&lt;dbl&gt;</th><th scope=col>&lt;dbl&gt;</th><th scope=col>⋯</th><th scope=col>&lt;fct&gt;</th><th scope=col>&lt;fct&gt;</th><th scope=col>&lt;dbl&gt;</th><th scope=col>&lt;dbl&gt;</th><th scope=col>&lt;fct&gt;</th><th scope=col>&lt;fct&gt;</th><th scope=col>&lt;fct&gt;</th><th scope=col>&lt;fct&gt;</th><th scope=col>&lt;fct&gt;</th><th scope=col>&lt;fct&gt;</th></tr>\n",
              "</thead>\n",
              "<tbody>\n",
              "\t<tr><th scope=row>0</th><td>0.228</td><td>0.739</td><td> 2</td><td>-27.313</td><td>0</td><td>0.0555</td><td>0.3280</td><td>9.90e-01</td><td>0.4070</td><td>0.0112</td><td>⋯</td><td>https://api.spotify.com/v1/tracks/32AWEAYwQRky8gkAqKBgv1</td><td>https://api.spotify.com/v1/audio-analysis/32AWEAYwQRky8gkAqKBgv1</td><td> 63869</td><td>5</td><td>Sharp Nighttime Thunder Storms Sounds</td><td>Thunderstorm Sound Bank</td><td>no lyrics found</td><td>NA</td><td>NA</td><td>32AWEAYwQRky8gkAqKBgv1</td></tr>\n",
              "\t<tr><th scope=row>1</th><td>0.708</td><td>0.608</td><td>10</td><td> -8.780</td><td>0</td><td>0.3200</td><td>0.0476</td><td>7.15e-06</td><td>0.1270</td><td>0.2200</td><td>⋯</td><td>https://api.spotify.com/v1/tracks/3Cqj0VmGsjhmHgqXcnH6Zz</td><td>https://api.spotify.com/v1/audio-analysis/3Cqj0VmGsjhmHgqXcnH6Zz</td><td>228625</td><td>4</td><td>Pse Ke Ardh Ktu                      </td><td>Buta                   </td><td>no lyrics found</td><td>NA</td><td>NA</td><td>3Cqj0VmGsjhmHgqXcnH6Zz</td></tr>\n",
              "\t<tr><th scope=row>2</th><td>0.816</td><td>0.600</td><td> 6</td><td> -9.506</td><td>0</td><td>0.2530</td><td>0.1950</td><td>1.18e-02</td><td>0.1270</td><td>0.3890</td><td>⋯</td><td>https://api.spotify.com/v1/tracks/26EDvDMoB73VfJtT8pKTVS</td><td>https://api.spotify.com/v1/audio-analysis/26EDvDMoB73VfJtT8pKTVS</td><td>168425</td><td>4</td><td>100 Ks                               </td><td>Butch                  </td><td>no lyrics found</td><td>NA</td><td>NA</td><td>26EDvDMoB73VfJtT8pKTVS</td></tr>\n",
              "\t<tr><th scope=row>3</th><td>0.525</td><td>0.753</td><td> 1</td><td> -7.975</td><td>1</td><td>0.4990</td><td>0.4400</td><td>0.00e+00</td><td>0.0753</td><td>0.5520</td><td>⋯</td><td>https://api.spotify.com/v1/tracks/0aW657knJXm5pUjG7x6YN1</td><td>https://api.spotify.com/v1/audio-analysis/0aW657knJXm5pUjG7x6YN1</td><td>215466</td><td>4</td><td>Ground Zero                          </td><td>Tenk                   </td><td>no lyrics found</td><td>NA</td><td>NA</td><td>0aW657knJXm5pUjG7x6YN1</td></tr>\n",
              "\t<tr><th scope=row>4</th><td>0.878</td><td>0.792</td><td> 1</td><td> -5.483</td><td>1</td><td>0.0645</td><td>0.1810</td><td>0.00e+00</td><td>0.1190</td><td>0.5130</td><td>⋯</td><td>https://api.spotify.com/v1/tracks/5KZdZNWX2B0rLY7BEcgryb</td><td>https://api.spotify.com/v1/audio-analysis/5KZdZNWX2B0rLY7BEcgryb</td><td>161250</td><td>4</td><td>Bizele                               </td><td>Elinel                 </td><td>no lyrics found</td><td>NA</td><td>NA</td><td>5KZdZNWX2B0rLY7BEcgryb</td></tr>\n",
              "\t<tr><th scope=row>5</th><td>0.453</td><td>0.656</td><td> 5</td><td> -8.205</td><td>0</td><td>0.4250</td><td>0.2470</td><td>0.00e+00</td><td>0.0781</td><td>0.5660</td><td>⋯</td><td>https://api.spotify.com/v1/tracks/5lsGmbedEgu7ZxVuPByY1J</td><td>https://api.spotify.com/v1/audio-analysis/5lsGmbedEgu7ZxVuPByY1J</td><td>203625</td><td>4</td><td>K.P.T                                </td><td>Finem                  </td><td>no lyrics found</td><td>NA</td><td>NA</td><td>5lsGmbedEgu7ZxVuPByY1J</td></tr>\n",
              "</tbody>\n",
              "</table>\n"
            ]
          },
          "metadata": {
            "tags": []
          }
        }
      ]
    },
    {
      "cell_type": "markdown",
      "metadata": {
        "id": "KOLKmmQacFN1",
        "colab_type": "text"
      },
      "source": [
        "Constructing this data was a process. I'm not going to go into much detail, but the data collection was a four step process and happened in Python. \n",
        "1. [This page on everynoise.com](http://everynoise.com/thesoundsofcountries.html) has links to over 100 spotify playlists, each one specific to one country. Through a combination of webscraping and requests to the [Spotify Web API](https://developer.spotify.com/documentation/web-api/), information for all songs on all the playlist this page links to was requested. Those songs for which information was returned were made into a dataframe with columns each piece of their Spotify metadata.\n",
        "2. Through many requests to the [Musixmatch API](https://developer.musixmatch.com/), only a small portion of which were fruitful, excerpts of the songs' lyrics were collected and placed into the data frame as well.\n",
        "3. With the help of the [langdetect](https://github.com/Mimino666/langdetect) python library, the languages of a couple thousand of the lyric excerpts were able to be labeled as one of several dozen languages."
      ]
    },
    {
      "cell_type": "markdown",
      "metadata": {
        "id": "PDrZMkHCbgu8",
        "colab_type": "text"
      },
      "source": [
        "Some columns we don't need, like columns 5 and 16 among others. \n",
        "\n",
        "Those rows that for songs either whose lyrics couldn't be found or whose lyrics' language couldn't be detected will have NaNs in some columns. That won't do."
      ]
    },
    {
      "cell_type": "code",
      "metadata": {
        "id": "rh-ORPLSU1am",
        "colab_type": "code",
        "colab": {}
      },
      "source": [
        "dat <- na.exclude(AFsongDF[,c(-5,-16:-12,-23)])\n",
        "dat$sid <- as.character(dat$sid) #The songid column is a character, not a factor, so make sure that is reflected."
      ],
      "execution_count": 0,
      "outputs": []
    },
    {
      "cell_type": "markdown",
      "metadata": {
        "id": "t2hPksEHbJpj",
        "colab_type": "text"
      },
      "source": [
        "Get the encoding types of each lyric excerpt."
      ]
    },
    {
      "cell_type": "code",
      "metadata": {
        "id": "8ZFSW-aya8dP",
        "colab_type": "code",
        "colab": {}
      },
      "source": [
        "stri_lang_enc = vapply(1:nrow(dat), function(x){\n",
        "  stri_enc_detect(\n",
        "    dat$lyrics[x], filter_angle_brackets = F\n",
        "    )[[1]][c('Language','Encoding','Confidence')][1,] %>%\n",
        "    unlist()},\n",
        "    # Language: What language does R think this text is most likely written in (if it has an opinion)\n",
        "    # Encoding: What type of encoding does R think is most likely right for this text\n",
        "    # Confidence: We probably won't use, but how confident is R that this is the correct language diagnosis\n",
        "  FUN.VALUE = c('Language','Encoding','Confidence')) %>% t() %>%\n",
        "  as.data.frame()"
      ],
      "execution_count": 0,
      "outputs": []
    },
    {
      "cell_type": "code",
      "metadata": {
        "id": "8XZToCjB0Cgv",
        "colab_type": "code",
        "colab": {
          "base_uri": "https://localhost:8080/",
          "height": 195
        },
        "outputId": "d14e7ccf-acad-421e-bc37-4f1cd9280a1f"
      },
      "source": [
        "head(stri_lang_enc)"
      ],
      "execution_count": 20,
      "outputs": [
        {
          "output_type": "display_data",
          "data": {
            "text/plain": [
              "  Language Encoding   Confidence\n",
              "1          UTF-8      1         \n",
              "2          UTF-8      1         \n",
              "3 en       ISO-8859-1 0.26      \n",
              "4          UTF-8      1         \n",
              "5          UTF-8      0.8       \n",
              "6 pt       ISO-8859-1 0.31      "
            ],
            "text/latex": "A data.frame: 6 × 3\n\\begin{tabular}{r|lll}\n  & Language & Encoding & Confidence\\\\\n  & <fct> & <fct> & <fct>\\\\\n\\hline\n\t1 &    & UTF-8      & 1   \\\\\n\t2 &    & UTF-8      & 1   \\\\\n\t3 & en & ISO-8859-1 & 0.26\\\\\n\t4 &    & UTF-8      & 1   \\\\\n\t5 &    & UTF-8      & 0.8 \\\\\n\t6 & pt & ISO-8859-1 & 0.31\\\\\n\\end{tabular}\n",
            "text/markdown": "\nA data.frame: 6 × 3\n\n| <!--/--> | Language &lt;fct&gt; | Encoding &lt;fct&gt; | Confidence &lt;fct&gt; |\n|---|---|---|---|\n| 1 | <!----> | UTF-8      | 1    |\n| 2 | <!----> | UTF-8      | 1    |\n| 3 | en | ISO-8859-1 | 0.26 |\n| 4 | <!----> | UTF-8      | 1    |\n| 5 | <!----> | UTF-8      | 0.8  |\n| 6 | pt | ISO-8859-1 | 0.31 |\n\n",
            "text/html": [
              "<table>\n",
              "<caption>A data.frame: 6 × 3</caption>\n",
              "<thead>\n",
              "\t<tr><th></th><th scope=col>Language</th><th scope=col>Encoding</th><th scope=col>Confidence</th></tr>\n",
              "\t<tr><th></th><th scope=col>&lt;fct&gt;</th><th scope=col>&lt;fct&gt;</th><th scope=col>&lt;fct&gt;</th></tr>\n",
              "</thead>\n",
              "<tbody>\n",
              "\t<tr><th scope=row>1</th><td>  </td><td>UTF-8     </td><td>1   </td></tr>\n",
              "\t<tr><th scope=row>2</th><td>  </td><td>UTF-8     </td><td>1   </td></tr>\n",
              "\t<tr><th scope=row>3</th><td>en</td><td>ISO-8859-1</td><td>0.26</td></tr>\n",
              "\t<tr><th scope=row>4</th><td>  </td><td>UTF-8     </td><td>1   </td></tr>\n",
              "\t<tr><th scope=row>5</th><td>  </td><td>UTF-8     </td><td>0.8 </td></tr>\n",
              "\t<tr><th scope=row>6</th><td>pt</td><td>ISO-8859-1</td><td>0.31</td></tr>\n",
              "</tbody>\n",
              "</table>\n"
            ]
          },
          "metadata": {
            "tags": []
          }
        }
      ]
    },
    {
      "cell_type": "markdown",
      "metadata": {
        "id": "zr5kuNXlbQxU",
        "colab_type": "text"
      },
      "source": [
        "Make the text doc df for corpus analysis by sifting through all the ones with weird encoding types, and keeping only the ones we can handle. \n",
        "\n",
        "Also, remove sketchy inconsistencies: It's sometimes common for songs in other languages to have parts in English as well. That's just going to make things confusing. So hopefull this will help a little with removing those."
      ]
    },
    {
      "cell_type": "code",
      "metadata": {
        "id": "WHgOAMtnbWxN",
        "colab_type": "code",
        "colab": {
          "base_uri": "https://localhost:8080/",
          "height": 233
        },
        "outputId": "f24d1ebe-22d0-4c4e-f684-2dc100f7fd81"
      },
      "source": [
        "lyrics_df2 <- dat %>%\n",
        "  # columns need to be renamed as doc_id and text so that later, the corpus function will know what to do with the data we give it\n",
        "  select(doc_id = sid, text = lyrics, lang) %>%\n",
        "  # throw the encoding columns into it )\n",
        "  cbind(stri_lang_enc) %>%\n",
        "  mutate_if(is.factor, as.character) %>%\n",
        "  # get rid of non-ISO encodings\n",
        "  filter(Encoding %in% c(\"ISO-8859-1\",\"ISO-8859-9\",\"ISO-8859-2\")) %>%\n",
        "  # if lang.detect said English but R said something else was more likely, get rid of it\n",
        "  dplyr::filter(ifelse(lang != \"en\", T, ifelse(lang == Language, T, F)))\n",
        "\n",
        "langs <- data.frame(lang = c('en', 'es', 'id', 'sw', 'nl'), stringsAsFactors = F)\n",
        "\n",
        "# only use the languages in the 5 specified\n",
        "lyrics_df2 <- lyrics_df2 %>% \n",
        "  inner_join(langs)\n",
        "\n",
        "# clean up\n",
        "rm(langs)\n",
        "\n",
        "head(lyrics_df2,2)"
      ],
      "execution_count": 17,
      "outputs": [
        {
          "output_type": "stream",
          "text": [
            "Joining, by = \"lang\"\n",
            "\n"
          ],
          "name": "stderr"
        },
        {
          "output_type": "display_data",
          "data": {
            "text/plain": [
              "  doc_id                \n",
              "1 5YPmo05u2Kd2HEGLFqaPXQ\n",
              "2 5yqiverYlKEA0ly96HPq01\n",
              "  text                                                                                                                                                                                                                                                                                                                                                                                                                                                                                                                                                                                                                                                                                                         \n",
              "1 Had lyom iss3id mbark ki wafitik a yamina\\nya taj lkhwdat khbark lmard libik hlkna\\n\\nw had lyom iss3id mbark ki wafitik a yamina\\nya taj lkhwdat khbark lmard libik hlkna\\n\\nmali tag 3lik nchofik we nssa9ssi f nass khyana\\nmthawal galbi mndark kan lmola y9bl mna\\n\\nmali tag 3lik nchofik we nssa9ssi f nass khyana\\nmthawal galbi mndark kan lmola y9bl mna\\n\\nhahahaa yamina w m3dm zinik al mglo3a\\nhahahaa yamina w m3dm zinik a yamina\\n\\nblhkma chahrin nwdi hta dibt dwab lmlha\\nkol lila w nhar nadi mayhlach nam lmha\\n\\nra hobk ssfa mn jassdi w rabi 3ff w sabt raha\\nnd3i lah ana njwjk ana chr3 w lh9 m3ana\\n...\\n\\n******* This Lyrics is NOT for Commercial use *******\\n(1409618588767)\n",
              "2 Since 1992\\nthere is a club\\nwhich is making history.\\n7 years later, in 1999, it's still kicking:\\nPONT AERI!\\nWhen the stars begin to shine\\n...\\n\\n******* This Lyrics is NOT for Commercial use *******\\n(1409618588767)                                                                                                                                                                                                                                                                                                                                                                                                                                                                                 \n",
              "  lang Language Encoding   Confidence\n",
              "1 sw   hu       ISO-8859-2 0.18      \n",
              "2 en   en       ISO-8859-1 0.87      "
            ],
            "text/latex": "A data.frame: 2 × 6\n\\begin{tabular}{r|llllll}\n  & doc\\_id & text & lang & Language & Encoding & Confidence\\\\\n  & <chr> & <chr> & <chr> & <chr> & <chr> & <chr>\\\\\n\\hline\n\t1 & 5YPmo05u2Kd2HEGLFqaPXQ & Had lyom iss3id mbark ki wafitik a yamina\nya taj lkhwdat khbark lmard libik hlkna\n\nw had lyom iss3id mbark ki wafitik a yamina\nya taj lkhwdat khbark lmard libik hlkna\n\nmali tag 3lik nchofik we nssa9ssi f nass khyana\nmthawal galbi mndark kan lmola y9bl mna\n\nmali tag 3lik nchofik we nssa9ssi f nass khyana\nmthawal galbi mndark kan lmola y9bl mna\n\nhahahaa yamina w m3dm zinik al mglo3a\nhahahaa yamina w m3dm zinik a yamina\n\nblhkma chahrin nwdi hta dibt dwab lmlha\nkol lila w nhar nadi mayhlach nam lmha\n\nra hobk ssfa mn jassdi w rabi 3ff w sabt raha\nnd3i lah ana njwjk ana chr3 w lh9 m3ana\n...\n\n******* This Lyrics is NOT for Commercial use *******\n(1409618588767) & sw & hu & ISO-8859-2 & 0.18\\\\\n\t2 & 5yqiverYlKEA0ly96HPq01 & Since 1992\nthere is a club\nwhich is making history.\n7 years later, in 1999, it's still kicking:\nPONT AERI!\nWhen the stars begin to shine\n...\n\n******* This Lyrics is NOT for Commercial use *******\n(1409618588767)                                                                                                                                                                                                                                                                                                                                                                                                                                                                                  & en & en & ISO-8859-1 & 0.87\\\\\n\\end{tabular}\n",
            "text/markdown": "\nA data.frame: 2 × 6\n\n| <!--/--> | doc_id &lt;chr&gt; | text &lt;chr&gt; | lang &lt;chr&gt; | Language &lt;chr&gt; | Encoding &lt;chr&gt; | Confidence &lt;chr&gt; |\n|---|---|---|---|---|---|---|\n| 1 | 5YPmo05u2Kd2HEGLFqaPXQ | Had lyom iss3id mbark ki wafitik a yamina\nya taj lkhwdat khbark lmard libik hlkna\n\nw had lyom iss3id mbark ki wafitik a yamina\nya taj lkhwdat khbark lmard libik hlkna\n\nmali tag 3lik nchofik we nssa9ssi f nass khyana\nmthawal galbi mndark kan lmola y9bl mna\n\nmali tag 3lik nchofik we nssa9ssi f nass khyana\nmthawal galbi mndark kan lmola y9bl mna\n\nhahahaa yamina w m3dm zinik al mglo3a\nhahahaa yamina w m3dm zinik a yamina\n\nblhkma chahrin nwdi hta dibt dwab lmlha\nkol lila w nhar nadi mayhlach nam lmha\n\nra hobk ssfa mn jassdi w rabi 3ff w sabt raha\nnd3i lah ana njwjk ana chr3 w lh9 m3ana\n...\n\n******* This Lyrics is NOT for Commercial use *******\n(1409618588767) | sw | hu | ISO-8859-2 | 0.18 |\n| 2 | 5yqiverYlKEA0ly96HPq01 | Since 1992\nthere is a club\nwhich is making history.\n7 years later, in 1999, it's still kicking:\nPONT AERI!\nWhen the stars begin to shine\n...\n\n******* This Lyrics is NOT for Commercial use *******\n(1409618588767)                                                                                                                                                                                                                                                                                                                                                                                                                                                                                  | en | en | ISO-8859-1 | 0.87 |\n\n",
            "text/html": [
              "<table>\n",
              "<caption>A data.frame: 2 × 6</caption>\n",
              "<thead>\n",
              "\t<tr><th></th><th scope=col>doc_id</th><th scope=col>text</th><th scope=col>lang</th><th scope=col>Language</th><th scope=col>Encoding</th><th scope=col>Confidence</th></tr>\n",
              "\t<tr><th></th><th scope=col>&lt;chr&gt;</th><th scope=col>&lt;chr&gt;</th><th scope=col>&lt;chr&gt;</th><th scope=col>&lt;chr&gt;</th><th scope=col>&lt;chr&gt;</th><th scope=col>&lt;chr&gt;</th></tr>\n",
              "</thead>\n",
              "<tbody>\n",
              "\t<tr><th scope=row>1</th><td>5YPmo05u2Kd2HEGLFqaPXQ</td><td>Had lyom iss3id mbark ki wafitik a yamina\n",
              "ya taj lkhwdat khbark lmard libik hlkna\n",
              "\n",
              "w had lyom iss3id mbark ki wafitik a yamina\n",
              "ya taj lkhwdat khbark lmard libik hlkna\n",
              "\n",
              "mali tag 3lik nchofik we nssa9ssi f nass khyana\n",
              "mthawal galbi mndark kan lmola y9bl mna\n",
              "\n",
              "mali tag 3lik nchofik we nssa9ssi f nass khyana\n",
              "mthawal galbi mndark kan lmola y9bl mna\n",
              "\n",
              "hahahaa yamina w m3dm zinik al mglo3a\n",
              "hahahaa yamina w m3dm zinik a yamina\n",
              "\n",
              "blhkma chahrin nwdi hta dibt dwab lmlha\n",
              "kol lila w nhar nadi mayhlach nam lmha\n",
              "\n",
              "ra hobk ssfa mn jassdi w rabi 3ff w sabt raha\n",
              "nd3i lah ana njwjk ana chr3 w lh9 m3ana\n",
              "...\n",
              "\n",
              "******* This Lyrics is NOT for Commercial use *******\n",
              "(1409618588767)</td><td>sw</td><td>hu</td><td>ISO-8859-2</td><td>0.18</td></tr>\n",
              "\t<tr><th scope=row>2</th><td>5yqiverYlKEA0ly96HPq01</td><td>Since 1992\n",
              "there is a club\n",
              "which is making history.\n",
              "7 years later, in 1999, it's still kicking:\n",
              "PONT AERI!\n",
              "When the stars begin to shine\n",
              "...\n",
              "\n",
              "******* This Lyrics is NOT for Commercial use *******\n",
              "(1409618588767)                                                                                                                                                                                                                                                                                                                                                                                                                                                                                 </td><td>en</td><td>en</td><td>ISO-8859-1</td><td>0.87</td></tr>\n",
              "</tbody>\n",
              "</table>\n"
            ]
          },
          "metadata": {
            "tags": []
          }
        }
      ]
    },
    {
      "cell_type": "markdown",
      "metadata": {
        "id": "ZEC8L4OUsHyP",
        "colab_type": "text"
      },
      "source": [
        "Take a smaller, stratified random sample. Limit to just five languages: English, Spanish, Indonesian, Dutch, and Swahili. Each strata is of 1 language and has 20 songs."
      ]
    },
    {
      "cell_type": "code",
      "metadata": {
        "id": "K6XAalcor4l9",
        "colab_type": "code",
        "colab": {
          "base_uri": "https://localhost:8080/",
          "height": 233
        },
        "outputId": "c59a8971-cb7e-413f-feff-d27adab214dd"
      },
      "source": [
        "# take a smaller, evenly dispersed sample\n",
        "set.seed(10)\n",
        "## take an equal random sample from all five languages of interest\n",
        "En_ids <- subset(x=lyrics_df2,subset = lang == 'en')$doc_id\n",
        "## n = 20 because there are exactly 22 songs in Dutch, the language of the 5 with the fewest songs\n",
        "En_ids <- sample(En_ids,20)\n",
        "eS_ids <- subset(x=lyrics_df2,subset = lang == 'es')$doc_id\n",
        "eS_ids <- sample(eS_ids,20)\n",
        "Id_ids <- subset(x=lyrics_df2,subset = lang == 'id')$doc_id\n",
        "Id_ids <- sample(Id_ids,20)\n",
        "Nl_ids <- subset(x=lyrics_df2,subset = lang == 'nl')$doc_id\n",
        "Nl_ids <- sample(Nl_ids,20)\n",
        "sW_ids <- subset(x=lyrics_df2,subset = lang == 'sw')$doc_id\n",
        "sW_ids <- sample(sW_ids,20)\n",
        "\n",
        "# replace a misclassified song\n",
        "En_ids_all <- subset(x=lyrics_df2,subset = lang == 'en')$doc_id\n",
        "En_ids[which(En_ids == \"720ZYTSr4vSqcFYq2CTJKN\")] <-\n",
        "  sample(En_ids_all[-which(En_ids_all %in% En_ids)],1)\n",
        "rm(En_ids_all)\n",
        "# replace another misclassified song\n",
        "Id_ids_all <- subset(x=lyrics_df2,subset = lang == 'id')$doc_id\n",
        "Id_ids[which(Id_ids == \"7mrxKs2fqNiKBE8zePEP2l\")] <-\n",
        "  sample(Id_ids_all[-which(Id_ids_all %in% Id_ids)],1)\n",
        "rm(Id_ids_all)\n",
        "\n",
        "# make a data frame from the songs selected\n",
        "esinw_df <- subset(x = lyrics_df2, select = names(lyrics_df2),\n",
        "                   subset = doc_id %in% c(\n",
        "                     En_ids, eS_ids, Id_ids, Nl_ids, sW_ids))\n",
        "head(esinw_df,2)\n"
      ],
      "execution_count": 15,
      "outputs": [
        {
          "output_type": "display_data",
          "data": {
            "text/plain": [
              "   doc_id                \n",
              "69 5pz1Q9QFHWsUBZiJ73Jx3j\n",
              "70 6eVj2ARRKQiy2Gb9Za7jnf\n",
              "   text                                                                                                                                                                                                                                                                                                                                                                                                                                                                                                                                                                                                                                                                                                                                                                                                                \n",
              "69 Ze is niet altijd even vrolijk en dat ligt ook wel eens aan mij.\\nEn een beetje aan de weerman, maar die maakt eigenlijk niemand blij.\\nEn al zijn miezerige buien, daar heeft zij geen boodschap aan.\\nZij wil alle dagen zon, en als het moet eens een orkaan.\\nMaar net als hem blijf ik proberen,\\nelke dag een flauwe mop.\\nPlots is daar dan toch die glimlach en dan klaart alles, dan klaart alles hier weer op.\\n\\nWant als ze lacht,\\nbreekt de hele hemel open,\\necht ik waan me in de tropen\\n't is echt machtig als ze lacht.\\nAls ze lacht,\\nbaad ik uren in de zon\\nik wou dat ik dat voor haar kon\\nwat zij voor mij doet\\nals ze lacht.\\n\\n'k Ben ook niet altijd even vrolijk, maar dat ligt echt wel niet aan mij.\\n...\\n\\n******* This Lyrics is NOT for Commercial use *******\\n(1409618588767)\n",
              "70 Een lach, een groet, een blij gezicht\\nEen vogel zwevend naar het licht.\\nOh het lijkt zo gewoon maar het is toch een wonder.\\nEen kind dat lacht en naar je zwaait,\\neen fietser die de hoek omdraait.\\nOh het lijkt zo gewoon maar het is toch een wonder.\\nHet leven gaat zo snel voorbij,\\ndat geld voor jou maar ook voor mij...\\n\\nOh laat de zon in je hart\\nZe schijnt toch voor iedereen\\nGeniet van het leven\\nWant het duurt toch maar even.\\nOh aat de zon in je hart\\nZe schijnt toch voor iedereen\\nGeniet van het leven\\n...\\n\\n******* This Lyrics is NOT for Commercial use *******\\n(1409618588767)                                                                                                                                                                                               \n",
              "   lang Language Encoding   Confidence\n",
              "69 nl   nl       ISO-8859-1 0.8       \n",
              "70 nl   nl       ISO-8859-1 0.91      "
            ],
            "text/latex": "A data.frame: 2 × 6\n\\begin{tabular}{r|llllll}\n  & doc\\_id & text & lang & Language & Encoding & Confidence\\\\\n  & <chr> & <chr> & <chr> & <chr> & <chr> & <chr>\\\\\n\\hline\n\t69 & 5pz1Q9QFHWsUBZiJ73Jx3j & Ze is niet altijd even vrolijk en dat ligt ook wel eens aan mij.\nEn een beetje aan de weerman, maar die maakt eigenlijk niemand blij.\nEn al zijn miezerige buien, daar heeft zij geen boodschap aan.\nZij wil alle dagen zon, en als het moet eens een orkaan.\nMaar net als hem blijf ik proberen,\nelke dag een flauwe mop.\nPlots is daar dan toch die glimlach en dan klaart alles, dan klaart alles hier weer op.\n\nWant als ze lacht,\nbreekt de hele hemel open,\necht ik waan me in de tropen\n't is echt machtig als ze lacht.\nAls ze lacht,\nbaad ik uren in de zon\nik wou dat ik dat voor haar kon\nwat zij voor mij doet\nals ze lacht.\n\n'k Ben ook niet altijd even vrolijk, maar dat ligt echt wel niet aan mij.\n...\n\n******* This Lyrics is NOT for Commercial use *******\n(1409618588767) & nl & nl & ISO-8859-1 & 0.8 \\\\\n\t70 & 6eVj2ARRKQiy2Gb9Za7jnf & Een lach, een groet, een blij gezicht\nEen vogel zwevend naar het licht.\nOh het lijkt zo gewoon maar het is toch een wonder.\nEen kind dat lacht en naar je zwaait,\neen fietser die de hoek omdraait.\nOh het lijkt zo gewoon maar het is toch een wonder.\nHet leven gaat zo snel voorbij,\ndat geld voor jou maar ook voor mij...\n\nOh laat de zon in je hart\nZe schijnt toch voor iedereen\nGeniet van het leven\nWant het duurt toch maar even.\nOh aat de zon in je hart\nZe schijnt toch voor iedereen\nGeniet van het leven\n...\n\n******* This Lyrics is NOT for Commercial use *******\n(1409618588767)                                                                                                                                                                                                & nl & nl & ISO-8859-1 & 0.91\\\\\n\\end{tabular}\n",
            "text/markdown": "\nA data.frame: 2 × 6\n\n| <!--/--> | doc_id &lt;chr&gt; | text &lt;chr&gt; | lang &lt;chr&gt; | Language &lt;chr&gt; | Encoding &lt;chr&gt; | Confidence &lt;chr&gt; |\n|---|---|---|---|---|---|---|\n| 69 | 5pz1Q9QFHWsUBZiJ73Jx3j | Ze is niet altijd even vrolijk en dat ligt ook wel eens aan mij.\nEn een beetje aan de weerman, maar die maakt eigenlijk niemand blij.\nEn al zijn miezerige buien, daar heeft zij geen boodschap aan.\nZij wil alle dagen zon, en als het moet eens een orkaan.\nMaar net als hem blijf ik proberen,\nelke dag een flauwe mop.\nPlots is daar dan toch die glimlach en dan klaart alles, dan klaart alles hier weer op.\n\nWant als ze lacht,\nbreekt de hele hemel open,\necht ik waan me in de tropen\n't is echt machtig als ze lacht.\nAls ze lacht,\nbaad ik uren in de zon\nik wou dat ik dat voor haar kon\nwat zij voor mij doet\nals ze lacht.\n\n'k Ben ook niet altijd even vrolijk, maar dat ligt echt wel niet aan mij.\n...\n\n******* This Lyrics is NOT for Commercial use *******\n(1409618588767) | nl | nl | ISO-8859-1 | 0.8  |\n| 70 | 6eVj2ARRKQiy2Gb9Za7jnf | Een lach, een groet, een blij gezicht\nEen vogel zwevend naar het licht.\nOh het lijkt zo gewoon maar het is toch een wonder.\nEen kind dat lacht en naar je zwaait,\neen fietser die de hoek omdraait.\nOh het lijkt zo gewoon maar het is toch een wonder.\nHet leven gaat zo snel voorbij,\ndat geld voor jou maar ook voor mij...\n\nOh laat de zon in je hart\nZe schijnt toch voor iedereen\nGeniet van het leven\nWant het duurt toch maar even.\nOh aat de zon in je hart\nZe schijnt toch voor iedereen\nGeniet van het leven\n...\n\n******* This Lyrics is NOT for Commercial use *******\n(1409618588767)                                                                                                                                                                                                | nl | nl | ISO-8859-1 | 0.91 |\n\n",
            "text/html": [
              "<table>\n",
              "<caption>A data.frame: 2 × 6</caption>\n",
              "<thead>\n",
              "\t<tr><th></th><th scope=col>doc_id</th><th scope=col>text</th><th scope=col>lang</th><th scope=col>Language</th><th scope=col>Encoding</th><th scope=col>Confidence</th></tr>\n",
              "\t<tr><th></th><th scope=col>&lt;chr&gt;</th><th scope=col>&lt;chr&gt;</th><th scope=col>&lt;chr&gt;</th><th scope=col>&lt;chr&gt;</th><th scope=col>&lt;chr&gt;</th><th scope=col>&lt;chr&gt;</th></tr>\n",
              "</thead>\n",
              "<tbody>\n",
              "\t<tr><th scope=row>69</th><td>5pz1Q9QFHWsUBZiJ73Jx3j</td><td>Ze is niet altijd even vrolijk en dat ligt ook wel eens aan mij.\n",
              "En een beetje aan de weerman, maar die maakt eigenlijk niemand blij.\n",
              "En al zijn miezerige buien, daar heeft zij geen boodschap aan.\n",
              "Zij wil alle dagen zon, en als het moet eens een orkaan.\n",
              "Maar net als hem blijf ik proberen,\n",
              "elke dag een flauwe mop.\n",
              "Plots is daar dan toch die glimlach en dan klaart alles, dan klaart alles hier weer op.\n",
              "\n",
              "Want als ze lacht,\n",
              "breekt de hele hemel open,\n",
              "echt ik waan me in de tropen\n",
              "'t is echt machtig als ze lacht.\n",
              "Als ze lacht,\n",
              "baad ik uren in de zon\n",
              "ik wou dat ik dat voor haar kon\n",
              "wat zij voor mij doet\n",
              "als ze lacht.\n",
              "\n",
              "'k Ben ook niet altijd even vrolijk, maar dat ligt echt wel niet aan mij.\n",
              "...\n",
              "\n",
              "******* This Lyrics is NOT for Commercial use *******\n",
              "(1409618588767)</td><td>nl</td><td>nl</td><td>ISO-8859-1</td><td>0.8 </td></tr>\n",
              "\t<tr><th scope=row>70</th><td>6eVj2ARRKQiy2Gb9Za7jnf</td><td>Een lach, een groet, een blij gezicht\n",
              "Een vogel zwevend naar het licht.\n",
              "Oh het lijkt zo gewoon maar het is toch een wonder.\n",
              "Een kind dat lacht en naar je zwaait,\n",
              "een fietser die de hoek omdraait.\n",
              "Oh het lijkt zo gewoon maar het is toch een wonder.\n",
              "Het leven gaat zo snel voorbij,\n",
              "dat geld voor jou maar ook voor mij...\n",
              "\n",
              "Oh laat de zon in je hart\n",
              "Ze schijnt toch voor iedereen\n",
              "Geniet van het leven\n",
              "Want het duurt toch maar even.\n",
              "Oh aat de zon in je hart\n",
              "Ze schijnt toch voor iedereen\n",
              "Geniet van het leven\n",
              "...\n",
              "\n",
              "******* This Lyrics is NOT for Commercial use *******\n",
              "(1409618588767)                                                                                                                                                                                               </td><td>nl</td><td>nl</td><td>ISO-8859-1</td><td>0.91</td></tr>\n",
              "</tbody>\n",
              "</table>\n"
            ]
          },
          "metadata": {
            "tags": []
          }
        }
      ]
    },
    {
      "cell_type": "markdown",
      "metadata": {
        "id": "kErxtHDLsmPs",
        "colab_type": "text"
      },
      "source": [
        "Create a corpus object"
      ]
    },
    {
      "cell_type": "code",
      "metadata": {
        "id": "zZwXepbRtXYH",
        "colab_type": "code",
        "colab": {
          "base_uri": "https://localhost:8080/",
          "height": 195
        },
        "outputId": "8873bc27-695e-4b0a-f05a-3cc99e423af0"
      },
      "source": [
        "# create a corpus of the lyrics\n",
        "lyrics_corpus <- corpus(esinw_df)\n",
        "\n",
        "# Let's get some information about our corpus, shall we?\n",
        "\n",
        "# we don't care about sentences, song lyrics probably don't follow grammar protocols all that well\n",
        "lyrics_sum <- summary(lyrics_corpus, tolower = T, n = 100) %>% dplyr::select(- Sentences)\n",
        "\n",
        "# Lyric detail summary table\n",
        "lyrics_sum3ds <- lyrics_sum %>% \n",
        "  mutate(Text = as.character(Text)) %>%\n",
        "  mutate(TTR = Types/Tokens) %>% \n",
        "  mutate(Language = lang)\n",
        "\n",
        "# get all the averages and overall totals for the metrics we have interest in\n",
        "lyrics_sum_cct_avg <- lyrics_sum3ds %>% \n",
        "  summarise(\"Texts\" = length(Text),\n",
        "            \"Avg Tokens per Lyric Excerpt\" = round(mean(Tokens)),\n",
        "            \"Tokens in Total\" = sum(Tokens),\n",
        "            \"Avg Types per Lyric Excerpt\" = round(mean(Types),2), \n",
        "            \"Avg Type/Token Ratio (TTR)\" = round(mean(TTR),3)) %>% \n",
        "  mutate(Language = \"all\") %>%\n",
        "  select(Language, Texts, `Tokens in Total`, `Avg Tokens per Lyric Excerpt`, `Avg Types per Lyric Excerpt`, `Avg Type/Token Ratio (TTR)`)\n",
        "\n",
        "# get these ones again, but grouping by language this time\n",
        "lyrics_sum_cct_va <- lyrics_sum3ds %>% group_by(Language) %>% \n",
        "  summarise(\"Texts\" = length(Text),\n",
        "            \"Avg Tokens per Lyric Excerpt\" = round(mean(Tokens)),\n",
        "            \"Tokens in Total\" = sum(Tokens), \n",
        "            \"Avg Types per Lyric Excerpt\" = round(mean(Types),2), \n",
        "            \"Avg Type/Token Ratio (TTR)\" = round(mean(TTR),3)) %>%  ungroup() %>%\n",
        "  select(Language, Texts, `Tokens in Total`, `Avg Tokens per Lyric Excerpt`, `Avg Types per Lyric Excerpt`, `Avg Type/Token Ratio (TTR)`)\n",
        "\n",
        "# bind the language-grouped table and the everything table into one\n",
        "lyrics_sum_cct_va <- rbind(lyrics_sum_cct_va, lyrics_sum_cct_avg)\n",
        "\n",
        "# make a second version that only contains three details\n",
        "lyrics_sum_cct_simp <- lyrics_sum_cct_va  %>%\n",
        "  select(Language, `Avg Types per Lyric Excerpt`, `Avg Tokens per Lyric Excerpt`, `Avg Type/Token Ratio (TTR)`)\n",
        "\n",
        "# Let's check it out\n",
        "lyrics_sum_cct_va"
      ],
      "execution_count": 21,
      "outputs": [
        {
          "output_type": "display_data",
          "data": {
            "text/plain": [
              "  Language Texts Tokens in Total Avg Tokens per Lyric Excerpt\n",
              "1 en        20    2543           127                         \n",
              "2 es        20    2167           108                         \n",
              "3 id        20    1528            76                         \n",
              "4 nl        20    2569           128                         \n",
              "5 sw        20    2229           111                         \n",
              "6 all      100   11036           110                         \n",
              "  Avg Types per Lyric Excerpt Avg Type/Token Ratio (TTR)\n",
              "1 68.10                       0.544                     \n",
              "2 59.70                       0.559                     \n",
              "3 47.70                       0.625                     \n",
              "4 71.15                       0.559                     \n",
              "5 61.85                       0.560                     \n",
              "6 61.70                       0.569                     "
            ],
            "text/latex": "A tibble: 6 × 6\n\\begin{tabular}{llllll}\n Language & Texts & Tokens in Total & Avg Tokens per Lyric Excerpt & Avg Types per Lyric Excerpt & Avg Type/Token Ratio (TTR)\\\\\n <chr> & <int> & <int> & <dbl> & <dbl> & <dbl>\\\\\n\\hline\n\t en  &  20 &  2543 & 127 & 68.10 & 0.544\\\\\n\t es  &  20 &  2167 & 108 & 59.70 & 0.559\\\\\n\t id  &  20 &  1528 &  76 & 47.70 & 0.625\\\\\n\t nl  &  20 &  2569 & 128 & 71.15 & 0.559\\\\\n\t sw  &  20 &  2229 & 111 & 61.85 & 0.560\\\\\n\t all & 100 & 11036 & 110 & 61.70 & 0.569\\\\\n\\end{tabular}\n",
            "text/markdown": "\nA tibble: 6 × 6\n\n| Language &lt;chr&gt; | Texts &lt;int&gt; | Tokens in Total &lt;int&gt; | Avg Tokens per Lyric Excerpt &lt;dbl&gt; | Avg Types per Lyric Excerpt &lt;dbl&gt; | Avg Type/Token Ratio (TTR) &lt;dbl&gt; |\n|---|---|---|---|---|---|\n| en  |  20 |  2543 | 127 | 68.10 | 0.544 |\n| es  |  20 |  2167 | 108 | 59.70 | 0.559 |\n| id  |  20 |  1528 |  76 | 47.70 | 0.625 |\n| nl  |  20 |  2569 | 128 | 71.15 | 0.559 |\n| sw  |  20 |  2229 | 111 | 61.85 | 0.560 |\n| all | 100 | 11036 | 110 | 61.70 | 0.569 |\n\n",
            "text/html": [
              "<table>\n",
              "<caption>A tibble: 6 × 6</caption>\n",
              "<thead>\n",
              "\t<tr><th scope=col>Language</th><th scope=col>Texts</th><th scope=col>Tokens in Total</th><th scope=col>Avg Tokens per Lyric Excerpt</th><th scope=col>Avg Types per Lyric Excerpt</th><th scope=col>Avg Type/Token Ratio (TTR)</th></tr>\n",
              "\t<tr><th scope=col>&lt;chr&gt;</th><th scope=col>&lt;int&gt;</th><th scope=col>&lt;int&gt;</th><th scope=col>&lt;dbl&gt;</th><th scope=col>&lt;dbl&gt;</th><th scope=col>&lt;dbl&gt;</th></tr>\n",
              "</thead>\n",
              "<tbody>\n",
              "\t<tr><td>en </td><td> 20</td><td> 2543</td><td>127</td><td>68.10</td><td>0.544</td></tr>\n",
              "\t<tr><td>es </td><td> 20</td><td> 2167</td><td>108</td><td>59.70</td><td>0.559</td></tr>\n",
              "\t<tr><td>id </td><td> 20</td><td> 1528</td><td> 76</td><td>47.70</td><td>0.625</td></tr>\n",
              "\t<tr><td>nl </td><td> 20</td><td> 2569</td><td>128</td><td>71.15</td><td>0.559</td></tr>\n",
              "\t<tr><td>sw </td><td> 20</td><td> 2229</td><td>111</td><td>61.85</td><td>0.560</td></tr>\n",
              "\t<tr><td>all</td><td>100</td><td>11036</td><td>110</td><td>61.70</td><td>0.569</td></tr>\n",
              "</tbody>\n",
              "</table>\n"
            ]
          },
          "metadata": {
            "tags": []
          }
        }
      ]
    }
  ]
}